{
  "cells": [
    {
      "cell_type": "markdown",
      "metadata": {
        "id": "view-in-github",
        "colab_type": "text"
      },
      "source": [
        "<a href=\"https://colab.research.google.com/github/thanktua-spp/machine-learning-fundamentals/blob/main/Regression_from_Scratch.ipynb\" target=\"_parent\"><img src=\"https://colab.research.google.com/assets/colab-badge.svg\" alt=\"Open In Colab\"/></a>"
      ]
    },
    {
      "cell_type": "markdown",
      "metadata": {
        "id": "6xaxyrSUVMSY"
      },
      "source": [
        "# Linear Regression Concept Development\n",
        "\n",
        "## 1. Toy Data Generation and Visualization\n",
        "\n",
        "In this introductory Section, we will generate a set of toy data set with linear relationship easy enough to train a simple linear regression model algorithm.\n"
      ]
    },
    {
      "cell_type": "markdown",
      "metadata": {
        "id": "IKcjD-wZaNsJ"
      },
      "source": [
        "# 1.1 Import packages\n",
        "\n",
        "Two very standard packages used for numeric computing are,\n",
        "\n",
        "*   Numpy: A numeric computing library for easy array manipulation https://numpy.org/. \n",
        "\n",
        "*   Matplotlib: A plotting and visualization library https://matplotlib.org/.\n",
        "\n"
      ]
    },
    {
      "cell_type": "code",
      "execution_count": null,
      "metadata": {
        "id": "ojmyAj3z7E2Q"
      },
      "outputs": [],
      "source": [
        "# Import Packages\n",
        "import numpy as np\n",
        "import matplotlib.pyplot as plt"
      ]
    },
    {
      "cell_type": "markdown",
      "metadata": {
        "id": "5FgkTyRJcMBX"
      },
      "source": [
        "## 1.2 Create Toy data"
      ]
    },
    {
      "cell_type": "code",
      "execution_count": null,
      "metadata": {
        "colab": {
          "base_uri": "https://localhost:8080/"
        },
        "id": "DrWDCIzLF4g2",
        "outputId": "7106f711-01d5-40c2-d93a-ce6857937b39"
      },
      "outputs": [
        {
          "name": "stdout",
          "output_type": "stream",
          "text": [
            "X-data = [4.  4.5 5.  5.5 6.  6.5 7.  7.5 8.  8.5 9. ]\n",
            "fx-data = [ 8.  9. 10. 11. 12. 13. 14. 15. 16. 17. 18.]\n",
            "X shape = (11,), fx shape = (11,)\n"
          ]
        }
      ],
      "source": [
        "# Toy data creation\n",
        "\n",
        "## X data using 11 samples\n",
        "X = np.linspace(4, 9, 11)\n",
        "print(f'X-data = {X}')\n",
        "\n",
        "\n",
        "## initial y data (Input-Output relationship) as function of X\n",
        "fx = 2*X\n",
        "print(f'fx-data = {fx}')\n",
        "\n",
        "\n",
        "# Inspect shape\n",
        "print(f'X shape = {X.shape}, fx shape = {fx.shape}')"
      ]
    },
    {
      "cell_type": "code",
      "execution_count": null,
      "metadata": {
        "colab": {
          "base_uri": "https://localhost:8080/",
          "height": 297
        },
        "id": "Ufe16cXktPZx",
        "outputId": "03b90ea1-b943-456b-cbeb-546e5e7ffe51"
      },
      "outputs": [
        {
          "data": {
            "text/plain": [
              "[]"
            ]
          },
          "execution_count": 3,
          "metadata": {},
          "output_type": "execute_result"
        },
        {
          "data": {
            "image/png": "[encoded data removed]",
            "text/plain": [
              "<Figure size 432x288 with 1 Axes>"
            ]
          },
          "metadata": {
            "needs_background": "light"
          },
          "output_type": "display_data"
        }
      ],
      "source": [
        "# Basic data visualization\n",
        "plt.plot(X, fx, 'ro')\n",
        "plt.xlabel('X-axis')\n",
        "plt.ylabel('y-axis')\n",
        "plt.plot()"
      ]
    },
    {
      "cell_type": "code",
      "execution_count": null,
      "metadata": {
        "colab": {
          "base_uri": "https://localhost:8080/",
          "height": 319
        },
        "id": "ds1lXBd7HDKI",
        "outputId": "7e625973-dd87-42ec-8581-1f938dd6ea67"
      },
      "outputs": [
        {
          "name": "stdout",
          "output_type": "stream",
          "text": [
            "Output y: [ 7.63371053  9.04462846  9.02628068 11.23603508 13.05060914 13.4826509\n",
            " 14.32680683 15.23728755 16.41002907 18.61678761 18.29321109]\n"
          ]
        },
        {
          "data": {
            "text/plain": [
              "[]"
            ]
          },
          "execution_count": 4,
          "metadata": {},
          "output_type": "execute_result"
        },
        {
          "data": {
            "image/png": "[encoded data removed]",
            "text/plain": [
              "<Figure size 432x288 with 1 Axes>"
            ]
          },
          "metadata": {
            "needs_background": "light"
          },
          "output_type": "display_data"
        }
      ],
      "source": [
        "# Introduce noise to output Y\n",
        "\n",
        "# Draw samples from a standard normal distribution \n",
        "mu, sigma = 0, 1 # mean and standard deviation\n",
        "noise = np.random.normal(mu, sigma, 11)\n",
        "\n",
        "# Add noise samples to fx to get y train data\n",
        "y = fx + noise\n",
        "print(f'Output y: {y}')\n",
        "\n",
        "\n",
        "# Visualize new data set after noise addition\n",
        "plt.plot(X, y, 'ro')\n",
        "plt.plot()"
      ]
    },
    {
      "cell_type": "markdown",
      "metadata": {
        "id": "YGCI5AqVccBu"
      },
      "source": [
        "We will adopt a practice to first build intuition in code, before wrapping over concreate ideas into functions. Doing this will ensure ideas are experimented quickly and are reproducable many times. "
      ]
    },
    {
      "cell_type": "code",
      "execution_count": null,
      "metadata": {
        "colab": {
          "base_uri": "https://localhost:8080/",
          "height": 279
        },
        "id": "kt6IsB-HwaGr",
        "outputId": "5b8f5a62-0172-42b7-ff6e-7743e69f73e2"
      },
      "outputs": [
        {
          "data": {
            "image/png": "[encoded data removed]",
            "text/plain": [
              "<Figure size 432x288 with 1 Axes>"
            ]
          },
          "metadata": {
            "needs_background": "light"
          },
          "output_type": "display_data"
        }
      ],
      "source": [
        "# Wrap the data generation steps into a function\n",
        "def gen_data(number_samples = 100, noise=1):\n",
        "  X = np.linspace(4, 9, number_samples)\n",
        "  mu, sigma = 0, noise # mean and standard deviation\n",
        "  s = np.random.normal(mu, sigma, number_samples)\n",
        "  y = 2*X + s\n",
        "  return X, y\n",
        "\n",
        "X, y = gen_data(100)\n",
        "\n",
        "def vis_data(X, y, color='r'):\n",
        "  plt.plot(X, y, color+'o')\n",
        "  plt.xlabel('X-data')\n",
        "  plt.ylabel('Y-data')\n",
        "  plt.plot()\n",
        "\n",
        "vis_data(X, y)"
      ]
    },
    {
      "cell_type": "markdown",
      "metadata": {
        "id": "UPnTjWFlJ9Eu"
      },
      "source": [
        "# Model development"
      ]
    },
    {
      "cell_type": "code",
      "execution_count": null,
      "metadata": {
        "colab": {
          "base_uri": "https://localhost:8080/",
          "height": 279
        },
        "id": "FkSAKjFw7sjx",
        "outputId": "b8ea1c90-88c6-4fd5-c5fe-09880501d935"
      },
      "outputs": [
        {
          "data": {
            "image/png": "[encoded data removed]",
            "text/plain": [
              "<Figure size 432x288 with 1 Axes>"
            ]
          },
          "metadata": {
            "needs_background": "light"
          },
          "output_type": "display_data"
        }
      ],
      "source": [
        "# Weight initialization\n",
        "w = 0\n",
        "\n",
        "y_hat= w*X\n",
        "y_hat.shape\n",
        "\n",
        "plt.plot(X, y_hat, 'b')\n",
        "plt.plot(X, y, 'ro')\n",
        "plt.xlabel('X')\n",
        "plt.ylabel('Y')\n",
        "plt.show()"
      ]
    },
    {
      "cell_type": "code",
      "execution_count": null,
      "metadata": {
        "id": "EgLxz8Tq7iTb"
      },
      "outputs": [],
      "source": [
        "# Error/Loss calculation\n",
        "\n",
        "error = y - y_hat\n",
        "\n",
        "def vanilla_loss(y, y_hat):\n",
        "  return (y -  y_hat)\n",
        "\n",
        "def squared_loss(y, y_hat):\n",
        "  return (y -  y_hat)**2\n",
        "\n",
        "def absolute_loss(y, y_hat):\n",
        "  return np.abs(y -  y_hat)\n",
        "\n",
        "\n",
        "loss = vanilla_loss(y, y_hat)\n",
        "se_loss = squared_loss(y, y_hat)\n",
        "abs_loss = absolute_loss(y, y_hat)"
      ]
    },
    {
      "cell_type": "code",
      "execution_count": null,
      "metadata": {
        "colab": {
          "base_uri": "https://localhost:8080/"
        },
        "id": "EN96TGOlPkDg",
        "outputId": "ad8af5b8-ff81-43e8-e961-3f167da70920"
      },
      "outputs": [
        {
          "name": "stdout",
          "output_type": "stream",
          "text": [
            "12.900134223175744 175.9221482608199 12.900134223175744\n"
          ]
        }
      ],
      "source": [
        "# Cost Calculation\n",
        "\n",
        "l_cost = np.mean(loss)\n",
        "se_cost = np.mean(se_loss)\n",
        "abs_cost = np.mean(abs_loss)\n",
        "\n",
        "print(l_cost, se_cost, abs_cost)"
      ]
    },
    {
      "cell_type": "code",
      "execution_count": null,
      "metadata": {
        "colab": {
          "base_uri": "https://localhost:8080/",
          "height": 365
        },
        "id": "gJSDH_OxPj_J",
        "outputId": "998abb75-55f3-4a3c-bd32-0bcee85087cf"
      },
      "outputs": [
        {
          "data": {
            "image/png": "[encoded data removed]",
            "text/plain": [
              "<Figure size 1080x360 with 3 Axes>"
            ]
          },
          "metadata": {
            "needs_background": "light"
          },
          "output_type": "display_data"
        }
      ],
      "source": [
        "# Visualize cost vs weights relationship\n",
        "\n",
        "fig, (ax1, ax2, ax3) = plt.subplots(nrows=1, ncols=3, figsize=(15, 5))\n",
        "#fig.suptitle('Comparision of different cost function relationship with training weight parameter \\n\\n')\n",
        "\n",
        "wrange = np.linspace(-7, 11)\n",
        "\n",
        "cost_values = [np.mean(vanilla_loss(y, w*X)) for w in wrange]\n",
        "ax1.plot(wrange, cost_values, 'b', linewidth=2)\n",
        "ax1.set_title('Cost relationship for \\n Error loss vs weight parameter axis')\n",
        "ax1.set_ylabel('Cost (J)')\n",
        "ax1.set_xlabel('Weight parameter')\n",
        "\n",
        "cost_values = [np.mean(squared_loss(y, w*X)) for w in wrange]\n",
        "ax2.plot(wrange, cost_values, 'g',  linewidth=2)\n",
        "ax2.set_title('Cost relationship for \\n Squared error loss vs weight parameter axis')\n",
        "ax2.set_xlabel('Weight parameter')\n",
        "\n",
        "cost_values = [np.mean(absolute_loss(y, w*X)) for w in wrange]\n",
        "ax3.plot(wrange, cost_values, 'r',  linewidth=2)\n",
        "ax3.set_title('Cost relationship for \\n Absolute error loss vs weight parameter axis')\n",
        "ax3.set_xlabel('Weight parameter')\n",
        "\n",
        "plt.show()\n",
        "fig.savefig('cost_functions.png', dpi=100)"
      ]
    },
    {
      "cell_type": "code",
      "execution_count": null,
      "metadata": {
        "id": "r_mcznDPPj8g"
      },
      "outputs": [],
      "source": [
        "# compute the loss derivative\n",
        "dloss_dw = -2 * X *(y - y_hat)\n",
        "dloss_dw;"
      ]
    },
    {
      "cell_type": "code",
      "execution_count": null,
      "metadata": {
        "id": "c5jhwt4PE8kM"
      },
      "outputs": [],
      "source": [
        ""
      ]
    },
    {
      "cell_type": "code",
      "execution_count": null,
      "metadata": {
        "colab": {
          "base_uri": "https://localhost:8080/"
        },
        "id": "0EYH6ihZPj5I",
        "outputId": "3105d468-7fbb-4709-eadf-ca4e63dd0078"
      },
      "outputs": [
        {
          "data": {
            "text/plain": [
              "-176.15822678102901"
            ]
          },
          "execution_count": 11,
          "metadata": {},
          "output_type": "execute_result"
        }
      ],
      "source": [
        "# compute the loss derivative\n",
        "dcost_dw = 1/X.shape[0] * np.sum(dloss_dw)\n",
        "dcost_dw"
      ]
    },
    {
      "cell_type": "code",
      "execution_count": null,
      "metadata": {
        "colab": {
          "base_uri": "https://localhost:8080/"
        },
        "id": "57KnoyYDKIwK",
        "outputId": "88b43093-6802-4edb-fa42-f0bfc01e859e"
      },
      "outputs": [
        {
          "data": {
            "text/plain": [
              "1.7615822678102901"
            ]
          },
          "execution_count": 12,
          "metadata": {},
          "output_type": "execute_result"
        }
      ],
      "source": [
        "# Update the weeight parameter\n",
        "alpha = 0.01\n",
        "w = w - alpha*dcost_dw\n",
        "w"
      ]
    },
    {
      "cell_type": "code",
      "execution_count": null,
      "metadata": {
        "id": "TQBFweovcW17"
      },
      "outputs": [],
      "source": [
        ""
      ]
    },
    {
      "cell_type": "code",
      "execution_count": null,
      "metadata": {
        "id": "0t0b9UzqcWyI"
      },
      "outputs": [],
      "source": [
        "def fit_regressor(X, y, w, alpha = 0.01):\n",
        "  y_hat= w*X\n",
        "  se_loss = squared_loss(y, y_hat)\n",
        "  se_cost = np.mean(se_loss)\n",
        "  dloss_dw = -2 * X *(y - y_hat)\n",
        "  dcost_dw = 1/X.shape[0] * np.sum(dloss_dw)\n",
        "  w = w - alpha*dcost_dw\n",
        "  return dcost_dw\n"
      ]
    },
    {
      "cell_type": "code",
      "execution_count": null,
      "metadata": {
        "id": "1wiCg4KWcWc2"
      },
      "outputs": [],
      "source": [
        ""
      ]
    },
    {
      "cell_type": "code",
      "execution_count": null,
      "metadata": {
        "id": "WzqyI0HLKFl7"
      },
      "outputs": [],
      "source": [
        ""
      ]
    },
    {
      "cell_type": "code",
      "execution_count": null,
      "metadata": {
        "colab": {
          "base_uri": "https://localhost:8080/"
        },
        "id": "0HV7DLq9BLQZ",
        "outputId": "d3985f8b-1c03-4345-9418-b7d57779e45d"
      },
      "outputs": [
        {
          "data": {
            "text/plain": [
              "array([0., 0., 0., 0., 0., 0., 0., 0., 0., 0., 0., 0., 0., 0., 0., 0., 0.,\n",
              "       0., 0., 0., 0., 0., 0., 0., 0., 0., 0., 0., 0., 0., 0., 0., 0., 0.,\n",
              "       0., 0., 0., 0., 0., 0., 0., 0., 0., 0., 0., 0., 0., 0., 0., 0., 0.,\n",
              "       0., 0., 0., 0., 0., 0., 0., 0., 0., 0., 0., 0., 0., 0., 0., 0., 0.,\n",
              "       0., 0., 0., 0., 0., 0., 0., 0., 0., 0., 0., 0., 0., 0., 0., 0., 0.,\n",
              "       0., 0., 0., 0., 0., 0., 0., 0., 0., 0., 0., 0., 0., 0., 0.])"
            ]
          },
          "execution_count": 14,
          "metadata": {},
          "output_type": "execute_result"
        }
      ],
      "source": [
        "def forward_pass(X, y, w):\n",
        "  y_hat = w*X\n",
        "  return y_hat\n",
        "\n",
        "w = 0\n",
        "y_hat = forward_pass(X, y, w)\n",
        "y_hat"
      ]
    },
    {
      "cell_type": "code",
      "execution_count": null,
      "metadata": {
        "colab": {
          "base_uri": "https://localhost:8080/"
        },
        "id": "EPNime7mTd3x",
        "outputId": "e622ad6b-a026-4b87-80d2-ddbb1da53089"
      },
      "outputs": [
        {
          "data": {
            "text/plain": [
              "175.92214826081994"
            ]
          },
          "execution_count": 15,
          "metadata": {},
          "output_type": "execute_result"
        }
      ],
      "source": [
        "def compute_cost(y, y_hat):\n",
        "    loss = (y - y_hat)**2\n",
        "    cost = (1/y.shape[0]) * np.sum(loss)\n",
        "    return cost\n",
        "\n",
        "cost = compute_cost(y, y_hat)\n",
        "cost"
      ]
    },
    {
      "cell_type": "code",
      "execution_count": null,
      "metadata": {
        "colab": {
          "base_uri": "https://localhost:8080/"
        },
        "id": "ChwG6cSsUMSt",
        "outputId": "c515be02-6797-4c29-9f64-3747746ce3b2"
      },
      "outputs": [
        {
          "data": {
            "text/plain": [
              "-176.15822678102901"
            ]
          },
          "execution_count": 16,
          "metadata": {},
          "output_type": "execute_result"
        }
      ],
      "source": [
        "def compute_gradient(X, y, y_hat):\n",
        "  dloss_dw = -2 * X *(y - y_hat)\n",
        "  dcost_dw = 1/X.shape[0] * np.sum(dloss_dw)\n",
        "  return dcost_dw\n",
        "\n",
        "dw = compute_gradient(X, y, y_hat)\n",
        "dw"
      ]
    },
    {
      "cell_type": "code",
      "execution_count": null,
      "metadata": {
        "colab": {
          "base_uri": "https://localhost:8080/"
        },
        "id": "Ug1owJlBUqzH",
        "outputId": "9e989392-5c3c-4529-ca30-3a0b29f8c57e"
      },
      "outputs": [
        {
          "data": {
            "text/plain": [
              "17.6158226781029"
            ]
          },
          "execution_count": 17,
          "metadata": {},
          "output_type": "execute_result"
        }
      ],
      "source": [
        "# 2nd Update parameter\n",
        "def update_gradient(w, dw, alpha=0.1):\n",
        "  w = w - alpha*dw\n",
        "  return w\n",
        "w = update_gradient(w, dw)\n",
        "w"
      ]
    },
    {
      "cell_type": "code",
      "execution_count": null,
      "metadata": {
        "colab": {
          "base_uri": "https://localhost:8080/"
        },
        "id": "WNiFb6NmVGQC",
        "outputId": "fbfb1e34-4a32-4b87-99e1-aa12c66461bb"
      },
      "outputs": [
        {
          "name": "stdout",
          "output_type": "stream",
          "text": [
            "Train epochs 0 ---> J(w) = 175.92214826081994 @ w = 0.17615822678102902\n",
            "Train epochs 5 ---> J(w) = 70.11718299198056 @ w = 0.8484048647521395\n",
            "Train epochs 10 ---> J(w) = 28.345935027602085 @ w = 1.2707955571131313\n",
            "Train epochs 15 ---> J(w) = 11.854864385802376 @ w = 1.536195020517908\n",
            "Train epochs 20 ---> J(w) = 5.34427578321275 @ w = 1.7029526608954222\n",
            "Train epochs 25 ---> J(w) = 2.7739293895268027 @ w = 1.8077309836076445\n",
            "Train epochs 30 ---> J(w) = 1.7591700510383432 @ w = 1.873566029519382\n",
            "Train epochs 35 ---> J(w) = 1.358548361456316 @ w = 1.9149319643616942\n",
            "Train epochs 40 ---> J(w) = 1.2003850097372495 @ w = 1.9409232968151184\n",
            "Train epochs 45 ---> J(w) = 1.1379429441239068 @ w = 1.9572543519521446\n",
            "Train epochs 50 ---> J(w) = 1.113291142580231 @ w = 1.9675155943246359\n",
            "Train epochs 55 ---> J(w) = 1.1035587400182807 @ w = 1.9739630096412548\n"
          ]
        }
      ],
      "source": [
        "# fit function\n",
        "def fit_regressor(X, y, w, epochs, alpha=0.01):\n",
        "  history = {'cost':[], 'w':[]}\n",
        "  for i in range(epochs):\n",
        "    y_hat = forward_pass(X, y, w)\n",
        "    cost = compute_cost(y, y_hat)\n",
        "    dw = compute_gradient(X, y, y_hat)\n",
        "    w = update_gradient(w, dw, alpha)\n",
        "    if i%5 == 0:\n",
        "      print(f'Train epochs {i} ---> J(w) = {cost} @ w = {w}')\n",
        "      history['cost'].append(cost)\n",
        "      history['w'].append(w)\n",
        "  return history\n",
        "\n",
        "w = 0 #np.random.randint(10)\n",
        "epochs= 60\n",
        "alpha= 0.001\n",
        "history = fit_regressor(X, y, w, epochs, alpha)\n"
      ]
    },
    {
      "cell_type": "code",
      "execution_count": null,
      "metadata": {
        "colab": {
          "base_uri": "https://localhost:8080/",
          "height": 279
        },
        "id": "9bas96CCEFkM",
        "outputId": "33dc980d-6314-4a84-a0e5-6bc70c326662"
      },
      "outputs": [
        {
          "data": {
            "image/png": "[encoded data removed]",
            "text/plain": [
              "<Figure size 432x288 with 1 Axes>"
            ]
          },
          "metadata": {
            "needs_background": "light"
          },
          "output_type": "display_data"
        }
      ],
      "source": [
        "\n",
        "cost = [compute_cost(y, forward_pass(X, y, w)) for w in wrange]\n",
        "plt.plot(wrange, cost, 'b')\n",
        "plt.plot(history['w'], history['cost'], 'ro')\n",
        "plt.annotate('1', xy=(history['w'][0],  history['cost'][0]), xytext=(history['w'][0],  history['cost'][0]))\n",
        "plt.xlabel('w')\n",
        "plt.ylabel('Cost')\n",
        "plt.show()"
      ]
    },
    {
      "cell_type": "code",
      "execution_count": null,
      "metadata": {
        "colab": {
          "base_uri": "https://localhost:8080/"
        },
        "id": "2Yd6zL8lJKRU",
        "outputId": "6791ace8-5d04-48b6-815f-9b722cc45977"
      },
      "outputs": [
        {
          "data": {
            "text/plain": [
              "146.26747307195157"
            ]
          },
          "execution_count": 20,
          "metadata": {},
          "output_type": "execute_result"
        }
      ],
      "source": [
        "compute_cost(y, forward_pass(X, y, history['w'][0]))"
      ]
    },
    {
      "cell_type": "code",
      "execution_count": null,
      "metadata": {
        "colab": {
          "base_uri": "https://localhost:8080/"
        },
        "id": "lbUI1GSDI-PA",
        "outputId": "4cae5cca-d97d-4285-f54d-e60fa70c9b27"
      },
      "outputs": [
        {
          "data": {
            "text/plain": [
              "(0.17615822678102902, 175.92214826081994)"
            ]
          },
          "execution_count": 21,
          "metadata": {},
          "output_type": "execute_result"
        }
      ],
      "source": [
        "history['w'][0], history['cost'][0]"
      ]
    },
    {
      "cell_type": "code",
      "execution_count": null,
      "metadata": {
        "id": "1QPnsOyyOb_H"
      },
      "outputs": [],
      "source": [
        ""
      ]
    },
    {
      "cell_type": "code",
      "execution_count": null,
      "metadata": {
        "colab": {
          "base_uri": "https://localhost:8080/",
          "height": 583
        },
        "id": "fZQ56xDRHhfI",
        "outputId": "ea063dea-7bae-4ba6-ae54-6ca9b321a501"
      },
      "outputs": [
        {
          "data": {
            "text/plain": [
              "Text(0.17615822678102902, 175.92214826081994, '1')"
            ]
          },
          "execution_count": 22,
          "metadata": {},
          "output_type": "execute_result"
        },
        {
          "data": {
            "image/png": "[encoded data removed]",
            "text/plain": [
              "<Figure size 432x288 with 1 Axes>"
            ]
          },
          "metadata": {
            "needs_background": "light"
          },
          "output_type": "display_data"
        }
      ],
      "source": [
        "plt.plot([history['w'][0], history['cost'][0]], [history['w'][1],history['cost'][1]], 'r--')\n",
        "plt.annotate('1', xy=(history['w'][0],  history['cost'][0]), xytext=(history['w'][0],  history['cost'][0]))\n"
      ]
    },
    {
      "cell_type": "code",
      "execution_count": null,
      "metadata": {
        "id": "zeXhgPOcN0y8"
      },
      "outputs": [],
      "source": [
        ""
      ]
    },
    {
      "cell_type": "code",
      "execution_count": null,
      "metadata": {
        "id": "CHTiKMxIIdrX"
      },
      "outputs": [],
      "source": [
        ""
      ]
    },
    {
      "cell_type": "code",
      "execution_count": null,
      "metadata": {
        "colab": {
          "base_uri": "https://localhost:8080/",
          "height": 458
        },
        "id": "LM9kp6zkIdny",
        "outputId": "112ca0e2-44bc-4c1f-c433-d00bc189435a"
      },
      "outputs": [
        {
          "data": {
            "image/png": "[encoded data removed]",
            "text/plain": [
              "<Figure size 864x504 with 2 Axes>"
            ]
          },
          "metadata": {
            "needs_background": "light"
          },
          "output_type": "display_data"
        }
      ],
      "source": [
        "# Animations\n",
        "from matplotlib.animation import FuncAnimation\n",
        "fig, (ax1, ax2) = plt.subplots(1, 2, figsize=(12, 7))\n",
        "param_start, param_stop = -2, 6\n",
        "ax1.set_xlim(param_start, param_stop)\n",
        "ax1.set_ylim(-100, 700)\n",
        "\n",
        "wrange1 = np.linspace(param_start, param_stop)\n",
        "cost = [compute_cost(y, forward_pass(X, y, w)) for w in wrange1]\n",
        "plt.plot(wrange1, cost)\n",
        "cost_curve, = ax1.plot(wrange1, cost, 'b', lw=2)\n",
        "point, = ax1.plot([], [], 'r.', ms=20)\n",
        "ax1.set_xlabel('Weight')\n",
        "ax1.set_ylabel('Cost')\n",
        "ax1.set_title('Parameter update')\n",
        "\n",
        "# Animations\n",
        "ax2.set_xlim(3, 10)\n",
        "ax2.set_ylim(-4, 23)\n",
        "\n",
        "data_points, = ax2.plot(X, y, 'ro')\n",
        "line, = ax2.plot([], [], 'b', lw=2)\n",
        "ax2.set_xlabel('X data')\n",
        "ax2.set_ylabel('Y data')\n",
        "ax2.set_title('Regression line fit')\n",
        "plt.show()"
      ]
    },
    {
      "cell_type": "code",
      "execution_count": null,
      "metadata": {
        "id": "Av8dm9SJXxUa"
      },
      "outputs": [],
      "source": [
        "X_data = []\n",
        "y_data = []\n",
        "X_weight = []\n",
        "y_weight = []\n",
        "x_shift, y_shift = 0.01, 10\n",
        "def cost_regline_update(n):\n",
        "  X_data.append(history['w'][n])\n",
        "  y_data.append(history['cost'][n])\n",
        "  ax1.annotate(str(n),\n",
        "              xy=(X_data[n]+x_shift,  y_data[n]+y_shift), \n",
        "              xytext=(X_data[n]+x_shift, y_data[n]+y_shift))\n",
        "\n",
        "  line_eqtn = history['w'][n]*X\n",
        "  X_weight.append(X)\n",
        "  y_weight.append(line_eqtn)\n",
        "    \n",
        "  point.set_data(X_data, y_data)\n",
        "  line.set_data(X, line_eqtn)\n",
        "  return point, line"
      ]
    },
    {
      "cell_type": "code",
      "execution_count": null,
      "metadata": {
        "id": "8RihycawYnU-"
      },
      "outputs": [],
      "source": [
        "animation = FuncAnimation(fig,\n",
        "                          func=cost_regline_update,\n",
        "                          frames=len(history['w']),\n",
        "                          interval=1000,\n",
        "                          blit=True)\n"
      ]
    },
    {
      "cell_type": "code",
      "execution_count": null,
      "metadata": {
        "colab": {
          "base_uri": "https://localhost:8080/",
          "height": 525
        },
        "id": "pvD4p0qAYwT1",
        "outputId": "0997394a-0dfa-4b19-ffa6-0045949c2b61"
      },
      "outputs": [
        {
          "data": {
            "text/html": [
              "<video width=\"864\" height=\"504\" controls autoplay loop>\n",
              "  <source type=\"video/mp4\" src=\"data:video/mp4;base64,AAAAHGZ0eXBNNFYgAAACAGlzb21pc28yYXZjMQAAAAhmcmVlAACuFm1kYXQAAAKtBgX//6ncRem9\n",
              "5tlIt5Ys2CDZI+7veDI2NCAtIGNvcmUgMTUyIHIyODU0IGU5YTU5MDMgLSBILjI2NC9NUEVHLTQg\n",
              "QVZDIGNvZGVjIC0gQ29weWxlZnQgMjAwMy0yMDE3IC0gaHR0cDovL3d3dy52aWRlb2xhbi5vcmcv\n",
              "eDI2NC5odG1sIC0gb3B0aW9uczogY2FiYWM9MSByZWY9MyBkZWJsb2NrPTE6MDowIGFuYWx5c2U9\n",
              "MHgzOjB4MTEzIG1lPWhleCBzdWJtZT03IHBzeT0xIHBzeV9yZD0xLjAwOjAuMDAgbWl4ZWRfcmVm\n",
              "PTEgbWVfcmFuZ2U9MTYgY2hyb21hX21lPTEgdHJlbGxpcz0xIDh4OGRjdD0xIGNxbT0wIGRlYWR6\n",
              "b25lPTIxLDExIGZhc3RfcHNraXA9MSBjaHJvbWFfcXBfb2Zmc2V0PS0yIHRocmVhZHM9MyBsb29r\n",
              "YWhlYWRfdGhyZWFkcz0xIHNsaWNlZF90aHJlYWRzPTAgbnI9MCBkZWNpbWF0ZT0xIGludGVybGFj\n",
              "ZWQ9MCBibHVyYXlfY29tcGF0PTAgY29uc3RyYWluZWRfaW50cmE9MCBiZnJhbWVzPTMgYl9weXJh\n",
              "bWlkPTIgYl9hZGFwdD0xIGJfYmlhcz0wIGRpcmVjdD0xIHdlaWdodGI9MSBvcGVuX2dvcD0wIHdl\n",
              "aWdodHA9MiBrZXlpbnQ9MjUwIGtleWludF9taW49MSBzY2VuZWN1dD00MCBpbnRyYV9yZWZyZXNo\n",
              "PTAgcmNfbG9va2FoZWFkPTQwIHJjPWNyZiBtYnRyZWU9MSBjcmY9MjMuMCBxY29tcD0wLjYwIHFw\n",
              "bWluPTAgcXBtYXg9NjkgcXBzdGVwPTQgaXBfcmF0aW89MS40MCBhcT0xOjEuMDAAgAAAWbxliIQA\n",
              "F//+99S3zLLtU2+2C6j3op4mX0N1JQGblsTtOoAAAAMAAAMAAAMAAtyUkby8QvcvMIAAAAMAE98z\n",
              "//CQx8QDUmZwAMeiGG/SxhJ22W48FYvkTRdl/i9WeAlqVYLy9aX1zgaaYxYdTXhR7ldChO/JnrLR\n",
              "ou7+n3HidOzUHGSmD6DDWXSopvi5J/HUf6uZHJlGhHv/Y7wzKZjbuzKMtQ4EyaABFqa9FAq3ohjz\n",
              "CSAD4FDqRSnzboHSrrC1gEdq047FwkQ1ZxgCVC1NTgDWcCOs2yoHbGRlzyFa0SlRFbiBmiqa7B1/\n",
              "19JG24G0X10PTPdudHHwlYhmrhEOSmJ2R9IzcYLX7Phd0Dvi9C1TbY1X+oXkPT4yxn+0lBX9OJHq\n",
              "PJM1PvM4Dw8Zmsxf40goDoYXFCVh4NDp5FJhun8AtFjXjZxkH2zN35uW70wO1zRu5XAG7LMspwJ3\n",
              "dbhs1YzigwCWTa+3o7dXSLlpXRC0PuGzhTAprrGc4NmeX8r+YfmfUzgZ5oIlCvf239tlRu4446HC\n",
              "pLm6b1YqQ+pM+1Zfv5BkH23jkPCscW9yB3S/W46wXCf6izWnvnWteZThkp+yoCUs1YOuSu7BQNYy\n",
              "/RkPOvM0GMxnKOSmdYhW+61oSK6iVaJ/m/rPIGPmkGac6HMpckWAwZkH0PT2AnOzYfum/5CQTEoq\n",
              "G2Qee0MYZSrJZEMXwZLppO/uKUX5Gx/J4hoGNeJ2o79lV675ZYO9GcKnPGCIO1d8ZI6zNgneot6b\n",
              "EH9Or5Ip13ze1qeC0uKdMwbxTuv/2bsU74Keu2E10+SKRysQJloINRYpavY9nnFqsNWDSLl3UifX\n",
              "/KALFkYis9ptFZiML1fh294XVDTa5FjfAeVUxvZKJ/Twc9zEED3TleNBAzkVBP/OQgEuKwG6eFvi\n",
              "kEmUsRFwDZZM59n9gno3R3yqt3KHeqmdhsuOdsriG1A4vauLV/Xi4taA/3p1PzfRWK3fah6mrm1M\n",
              "dPbPeKCpkFJnJsei5RwQybB9T8dF9TNYhgioTS0bCcdGG2IuPG75PGd/hgZyuVDWJyMlIczYJ2fm\n",
              "JHZQyFfgN7o7xeUEQOLPtUdgYTAJbDXGKZyyaP3WLzGvCBMw56EpTKy6p9EQNVTat1keiav2R2L4\n",
              "8LAOH8QO/+Q2eFoX2CMZAh6FrtSE37ttM1wkVd58TpiFNta//J5Lpe49iBQpaGe8dQ2roVqKgsSQ\n",
              "0qv1mpj4uZiydodIhA1GMsiVxYF6E22EXw74HR0vIzzoueDskdgdkFE6XslPUESxCuC768fde09c\n",
              "2tynVe0XZbYmtJbvXDjYgn6vKPd8FsvXM1XfPlQuwhExh42fko38GtsuRUdcQIAy++2EDPHUde12\n",
              "F8HmC14ADINGAduO9Mfp9Nm2TjzU/KWm8QuhyBhWbAG4GHgUG0s9voeQCpOxCbJ6cdOBS2z7FBxt\n",
              "vGG0NNQptKHZgBKi+zfQEkmigyBWmFlVqNPdJaGB3anqqo/AD1bemQxR/7q5OXMkRNUgxhYtjjaV\n",
              "kK8ejNbAGo7NOW+/sRVfP8B9YnD3FIJhPyEAdM0ymveiEFU5u9yTXEipshsoBqxv6MQq7gS4ziYb\n",
              "1yEVK7FSePWGzbV9N5hBebz5WRArddPHOqSkAScV6KBzCru+6JakEEr936JcFj2IhMRV+kN8y196\n",
              "kbtWFI3AG2YqnehMUZRu8IfK1x4mYmARzqYlFftP/qbX3s6MJZZiPXHbgmpZrUXDCZmls2SAwSJo\n",
              "KYS4sZs3gXdSYbb2+2oNKzPavgWKofevuhAjfpEg3hjKpKF90xaMQEC7Fy+lctSMJadFFxDzcYXB\n",
              "KI6T4EhYoYKXb+Kr7EDz21C4gyP/FOAIFnDatkEysCp3sws4gnJlskMON9hbhIgZqUiDKwgmIoiR\n",
              "X0AeLaHRvGdj7myEhku5pBeSkEMTVaNXOeEqTdaFiJ9vRKLRweJPtVEzRmJGWWrR430RzXbavPZW\n",
              "8YnpqShK4PCIwANlJUq+ihI1dSXwspmg3eCpjhjh/OXkSIzeVjdbe/bLdTP5HBD1CCCL59P6xQTx\n",
              "g3XvcJYI+QR01MTKkIf+PYkCnJWJRvb5igCAHHsBfNIeb1yf5aYVuRzTBKEkoFeQM9LVSdYhQtLc\n",
              "1mNrqnj4do1ZS+GsWG5Gt5t/UBOVioDj/cryDx4DsIWmJD+83aYwjik63LiboX/Du3bXiBkyRqz1\n",
              "aBu90KkRkyK3kAGqjYyWXEbXcbNWxDRoR8gJEWwlKJdbh1K4Co4Agq7lXBv9HmhJWl7x2p9O2dff\n",
              "i56dnmSRUJVUw9KsES95Mq3ZimlMUwxxnntDeVdCZj/Zuz4VbuEPuMiIR4hsOoSAmOux/0cEBwZY\n",
              "WrNkshuT82IEDg6z/LVCaU7tPZEQXgLSe2P4UE4RFZ9WEO2Wvw6tSUgTEzZTojZJnp9AsVugVixN\n",
              "XM4UZ/KZUa+/8jn3k8QzDGbZH0CrQZZFSGo86dgQjXicwPAR5T892h2YIhnWY7GrzZLWRRPNM/ov\n",
              "AfZTuUrritcBYg4NO0Ukcuoow9QMXQo1cxQ1TUzd4s95jROaLrJEztJDzXl+Oc3MiQ6r9n/YvuXW\n",
              "3W397Not86sZNWpTTlZ6Z00s+vDKcuiUSSY7cVZGeKsgqkp39wjAYY9BN44Q7N45qpQRrzfBlUG0\n",
              "feQ89q/z1FWbup6znPTh9w/8McyJe0EHYc4YMy87G+98J6KKtKHWy6ZD7UGismYVHi4HwkDuUFsK\n",
              "NCocYaY/zOXUfTh/q5ul6fvkcllZlnCVe616lGttDb3Y2Tkmr1DBwZLXRhgjLdAvCktwZNlyj613\n",
              "L5PlLV9eeLpmeSQKV8oT6KnAnnr46/A5pmQMOh8ttyb9Kegw6cl9uO0X9gotWZp4Aa17/uRkcNXT\n",
              "CE5k79Vx6V5lJgtZXSxqvjN2rEzqoiZwa8Juk7D8dUVDvDffGKzYyUbl4JGrPhG0PzeharSwVWYT\n",
              "b3xNxsvlV+Ml4CqvlK6ccZmxbwXzY8rFCsLtfwQ7oRp4Jv7R1leZOnu++9b7sdaClVH8+KRe/nlj\n",
              "nN4YB3ryTr20dd4QDqbtgh5Te4D1amF9uYhw2UTZ9G3EIikd5JtuVvJ0+Q3vDxHVxuTmB0XwYAlD\n",
              "IHYEXz+JJMFKVs/j8eNkdfe7K7COcduJj2QtR9zNrYzNYWRotHH7Z4hUTVeOhEA71ggfxK1SqdV4\n",
              "qezpGlGrbQ0C+B1JZzZvan+OGeui5mhmPf+cK6bFiUYa7y+TKVLWIzrhLuDjrYwVOkn/Fyt/L5ar\n",
              "VMJRIu65bN94HwFpB0N19R5gBlpJZXeq2k38ZCz1fFCWPUI3n70CkabrjpGr9U4zlul2xlOkvESK\n",
              "ZwYGHoFmofJzD8a3701fCANbn2HrChlbzhNeZrAZkEhLsS5nU3XvKzSY1orqpDcZtkT/F1ay+v64\n",
              "64/BKHSfpFeHNDC/6u9wciN3qITPss3TG53WlW7OeF3aJVUFFmE80GT3tl/dvtqATjhYsqRJHLNW\n",
              "XS+GEyK3rI2WA7I/sR3gZ2ifo8SdxPwee5qZpPJIGdOY6dwOJ2/pXlFkLw+tOltQw25YVJlEI2SZ\n",
              "3W4vijLz98DbdcDnncUQ5uVY/RPh+YIt//cnZmWe0Ln2Ra2OPtgpOM2g6sPSwMTMraSl3CKEI3yb\n",
              "vkzSaKAGJmZbKYFrfBnxVWJf8PUP4P2L3jW2/Ch6NmACWsIIR1fWZNDCCKNvnRt8MeyrS9dWOHFc\n",
              "o9TgwsLGkkhKQ81JWdUcq8EB8aJ16EmLMMt5CDA99qvk+EgJa2/QyllbAVUuf/74/REmgrXwDswd\n",
              "vfEXXsFTAsY2qZcP1LtuhgkvvBnWClrrLQNJwWP3UgviajB2g4dqE8IFa9ug1p57F9BO/E45zzbh\n",
              "nl5qbjA8ABVaMSHoMIsL1V6U4FgyVdngqmVxcSS0H0GF34V86wzys34R5kAbtofgB1IdkLCPHqIs\n",
              "Ww947uZ+GbYGoOslIL2n6+LF+laKh0zuGRsJ0+ne+aDxACFbKihqVNuQafR6l0aHGKgYEAgIkfbl\n",
              "Y4lNF8MFvHadDy5TMYF624AfUnnqeoGSGwmJ6/sdYbbQ/dkz2VZhQajzpDH5LUrozE2kmzC4EC/O\n",
              "rw+2fmIjhepH6fiV4zfR8+rF3zoMXxyV2V6WpOUEPY8g2JjHZk6sRY8phhHMf8YA5jqMxd9OFLWQ\n",
              "E++UZA4HiwDAYDlWvu42u0XTYsuCVCw2Vn98eOBJIw9/JRDBFSXnim1xf6TvYDMd32dN/mAoKsRn\n",
              "rz1w239bI5q24PiXeUw+lAfxuBlYCDdFFPVehoo9QIi8obd3dkzIg2lxwt/yVrAQQH6FAUr4/cly\n",
              "fnNN97wN/7UuSK/x/dNV9cqGnIdjn6XCdf9PSRKeRz+d9xag+ScEltijCAJ80xxVTXy2S56FXbD5\n",
              "+t8t9L6Y1tkqNu0Y2s4YlK7mCGbxljITCVaxardmAay+jdxV9T6putaAgpkG5LVVnPNHjuY6hNG0\n",
              "0yoKySNRF7zbthdYBWUl0joqbrXeNv8N4iNMLKQO7DuKfni7e3EemuqFezPHkHjpCBYrYWOqcK0S\n",
              "OZYtpdjy9GsiDq0P1Nq33gx1IgiWEunx4MH9EGU24xW5YUPVvC7tfmSmM2f1mw/h/IfLEoP5ITWj\n",
              "9r7jN8O6xgOxG+x/Z3+VlGlNV71+LjesqEYA9+tNXavGJFN5JrZeptaZMeWACCmLGjcSnGFggHvp\n",
              "9QpXLt0dxGMC53TQphnfuOMk2sCX3B8F5PgTLJdnYrjJEGoBLJDZXR7qUm0+Hv0r5WkTiZNRoCPp\n",
              "cOQHlQ1HsbpATz8KaRA+bOWawMA90PYO4LdwXdqSGVs+BNiU2LqTwOfXDSFf1v5dywjfTwb5f90/\n",
              "jfZqZ99TGxFvjwKGLkimSb7xg2MBDtLgp8jEqQwU2Ub77zARf0QdTNO9MvcCawPEmTgj3mj8EJOO\n",
              "yJC527d8V9KxWOaYdx6BE7JSsHPkfZ2PjYLO1GzSkovWaaGJZkW94I2ohYWR2iwR7GFNe1VlvX/N\n",
              "/FA89OTVhkkBmLJCJ9Z4APmMv/qrF74gcHAMkXUODBdbcR4QemBTO/ffw3xhg70bJqQGhGEyQaQJ\n",
              "buOlEeyHH80Lp40CoXUGOGDLjKnVre3aEd3lsnbl/Np08dHzaM9dzviKKMc947IwT5+RjQmiIsAs\n",
              "IzhnFRGf/lbVtCttCC/kIVaj5uaa3s26eofnHVzPIe7SpNj9Mv4TtAuIH0745tUtxEEdekLtSpRX\n",
              "AluEAbLEuSFpwb41XflFWx6wZHh1LME+LzolChv3/1ZJULd9CaOd3BwUKUi6zmSzprcrF/kD3szd\n",
              "vo+FLZvw+ubXhnBfL5XTY9FlOY43IrWuJyiU7gLsso3PJ9Io5izXEE7sqYrqL3nmBEP/a5xjLX/4\n",
              "1I7ITs7IhL7poNVdfaals92U8ThHxPr0vJ6w1CVcNY0GUsiIhszmrCDpgQlj8kRVMB0nt23DPARI\n",
              "WDQDWGkgfXq0cQ6MufeUk46oSFB1LNIgJ+dDB/O3ZxBRFJ9fJhyRbWbuTZMI/yze1plyL6KPyMEa\n",
              "kzcH0C8Hk/wFyelG04sa9F880hAmrUhvVu0UY3T7FslqrybFeRsvFyVYo/h1vJ9m79AtX/jum3rH\n",
              "Q85L4JVKs56qfOrJ4VL0zBOFL2ZbNczOmypMic30SeAyie7XVdG2WMa4VKKh2j1VwLpRCLS29qoF\n",
              "RIkDLSMVAaAXSF0FCvEnUW8Kttm2t1aeRHfrdOmVNm0jurdJjNk9J+mjPR+tp2eYbS7qhCtCiUXX\n",
              "R29v++9386gTf/1sqtae39hGus07OAWL/sKi3IWU36x3VqPr7NFW4vrqdsdsIH6ioiDY9/97miMs\n",
              "LnJFyQXqI4ZexPo4URlNpCq39FLZKP0jESTRFPWSI6gJiAWGNO01WL0ABfUUBz7vyGSidjGqvazX\n",
              "ou8d/VMO1tVqnLbQ2CDxTCgk11sn1JqWaIx/pxyCrIaE4/aVeVBSjqRqO7yAnKofTIthztwiAw5F\n",
              "iOfn7H4VO12CdR59CtsX2xSHf/3rPTlRFpHKGpYDzTVQXESlthvXOVzcdrZhEPfq6OOww2D9bV8/\n",
              "CK+lPeu271vdAXiNAi280VthvpSXgmpk+PM2tkkhS2LRA71jFdqvHliwjDmhmoo+W36FddrlwX0A\n",
              "t+bsRkBDgMl61Td0+H9MlKXdEtgkjUXzHthrODPJ4BAqUOBK3oCYryC3fmO7IXnUAQ4H00KAvskU\n",
              "iVWgAFaHMBUFNPqBvgnw+WX1sIFGA/D9zvAQs601Mr3AUnCSzhHxq7RZVZYcBIDbBvbH4QYQMjHo\n",
              "6/292nN1I7e5aU7PzsvyA5x/9E0HRYzmyjXecQQt9llPd0B38gasy8enxCNcHurvimKbauT8zw3m\n",
              "Zy58MgoEWiL6REmju9/0JOStvMWS6PfEbb9SFz9/qKUwwhXRgavkfa7yLfffvbC9NWCgpAlH0ZN4\n",
              "odr2PpwWYhOBkBPMaZN3LNbvCbcN8oN7L+GgAoAIQ/cKqO0S8KQujfmj7kzr+C9txzK4qWPPwta7\n",
              "u/c+B0KLp/UAaIABIrz/CmJuR/6F81aBbAdHVi4f5kQ27WWhdsUfGBlhP8ppn7nAV+0/+acFfdtF\n",
              "oZ8uKFhd2ILJNER8XV/+zS+Vyp6nW/nfDT+6LJVXS3NZiO+NbmYIprmoyDp8jzT7vN2YYzfBf4Th\n",
              "/Gx7PA6OHIWfjO/9mjmW6QM3l3fSNdMG6WwupfLmhh5Mk36rLKcr+XU/VL6f9o28RsiraCjFxy1O\n",
              "fGMQJqMSMIpYNf3gMNhZyU9nvMAazZNqS8ISKrLwPt8Xrie8qZr4N2wdg3uhwhmBSm26Rk663ehx\n",
              "NwYV9b+NPUBaq80UtPCtZ6L1PernmvsqWumRIoXQkI8ywn4Pt12xDD7lUL6roOPrUxgS9+192n/b\n",
              "J25vGCuqlY0M8yJDayZcWGpsKSYtUCaGDpZi4nKhHL24PhdLvfa+b3hWfOFRcEoc1Zzb3mbK2K+F\n",
              "8KnPK+9uExeyDBfqiUoEqx8s3mInmPlbEyN7lMkCLfzFafk8+2ExGuc8sgC9M5CNbuCii6w3/Rqk\n",
              "UmyEixa6LAnEzWpbjJbo3aQPWZVVMKRWogOeh8ufjokuxa/VXXLvpeyxcXZDL1+NdXWPXhQLihoe\n",
              "qrW0LuM3w8P8ZWqMz+RlvH6UgwOjz7tVbzi1duGyCCqq4yitJlgAZCY4PuERBlF+7a5/GljJpjkv\n",
              "/E9+q411OLKuS8QaqUn1iXYo8Ss2wVEVSUnG8E64sIeuZoYiECwdu6OG83ekNur93/6U15A49H8m\n",
              "0HM5uEXDwGGd+CCnjeGA4iiTSTenPssLfAHzGo1lpprmy8sc2Re2wLgfwccVjiXacPtGgwzaunPl\n",
              "XdXglmTxD5FQ6+NyxU665IbjPHhZUTyGFb/2nySFDeyK4dRJXHzEHUnlu2NbdkehcN6ekvQDYtZy\n",
              "PzL2iCvBHhjFAok4xVXw716AdAPupcUI6di6+5o5VgZKXoTATTminPcR71prUCc0diUVh+ZOMWlZ\n",
              "UWwRrsueJrYqW1f5lc7eIjXLbdp9yuzcURa+rmFS8M3LGB4DC8NLIRIbSOFmRj8eGKPezGXXzT9y\n",
              "olTR1N8IKnaYMi4JYpWC7ohtLCeVvlX+3OsLW+HnJnZroxQhfjNzkeUVtAlq+YFGsXX/MEP2Q8r1\n",
              "VIbkFab7R7JSb53Vq6TUr2i7OAfqbC3NW1232tI3cZWjJ/pDcQOJk4aRKLN4H50sTBSLo4xWjrJA\n",
              "mPPRRtgiD3ootoilKMKzY2vKNsx5WFr0JtFtG2Bev1qwLF2N1iSZ1rjba+crFnKGzfBsO1mZQCjd\n",
              "vXvJiYBXB6KWsgT9YTcOxI8rJRQANfanV6nyJV2+BJItFzAO26HobpVM2kbGS/ViPK6MwOOaCyHS\n",
              "opwD6y8UzJ5uhsnXMEitHdl+z0KmWIKzxtE4EqElC7aILOXcgpIZTmfexRd+PfRG4Og+JxvMQfF6\n",
              "lAqS2pp5adrNCBYw6z3lUJ86GFF8+8a/StdnvpXO1qbO8LDuOxD3QGxglDxnmlg/1sDzSWp8mU5h\n",
              "X+QDhLI5yTpd2z++VoA/yL00eCWGy1MkZBaMP5V/k5ODHeWUcb3e5xbiOU950CHoYp8Z6Q/1BR9j\n",
              "f6s5mTufKhlwtjN7WBPg+JVKmynfW8La62wWsMwnUgV/cGWGXLt8ddafZM+P+a/amGYXxflpJoR/\n",
              "mX56sIBMzvSZjSquqlbWrXIx7cddem+nXJu/lMYfSB7Gc7ltiqmKbxz0OtM2FeFr1xo7R5X/UJt9\n",
              "+YY3lxDsbDhMuqgPhlLnFBdRlVOPu5x4BEyntEBwtDrE6qMg+FVIkbJg35axbIzdVjscNmKvoYQz\n",
              "271UPVLurACVVWAl55Oo6iHo0NKMFQZvBF5SDm/mMyLwnVVh/WNGaqsZU5oYJ6gM8i2LnsIvovRR\n",
              "zrNj+ztzCJsXuG0bgPazbMUe/PBhw/zSO5T/Y580Je1ryrnG1BOc1EVqRNRpre5guPoOWD+6SVrw\n",
              "80DZ0FB04+mx+lQxd6eTmeQADzZ/YbXTix5NOvvG7MSRMPwwFVBb9lGZvI7gQk494k6V3wUxFN7h\n",
              "ahkHhtpahko+ncGEkWngwFnENvQ71Z6+iiJG5vorjEcBQN//l1BWk04/Pe0z/TFoJb8SnNN6B0YR\n",
              "N+0Q5MtDHsb6Aw7A3D2PakaWPYBtm/i7rSYCjiua6aCH2SnKjarbiAK4YjEcec4Gx5vMw3EMzCAl\n",
              "gDgJ80vSZ5a0YNj2KZbdx9gWuujedNcb2wkuAMOiIaKZgii59g9FVWnsbpbUrl8K6ZbGd17GBL2D\n",
              "dAn468/HPLoKkzuBkNBkLO0wqYZ7CvQ5ejyLEcskeRf6/Myl0qd5iYmBWuodfER9J3WY4ziCuCgV\n",
              "gMhNiu8jgAu+alZG8KWQHwe9fEFapbEYMOVJTCvRouIdNoiLTwGnzp2X85JWm5L4lk1UcInXkBtB\n",
              "5sxYoMs/Z+sODOF03igC9LwRux5Fr/h7mb0JvWuaGV1YVI+uQJjgalBksBKn8Olt4n7xg7uvWWGX\n",
              "2B+YvTt4laoNSNrOQpDkTurLrwIvrIGwLR51Qio49umTbcsRYHkoA4Y453Cch50KZzV41acAu7iB\n",
              "P+VQFHhGq3W1gbxIuV+radlz/oewSlZCJB4WZgSNuITRD7feviFA5zpzczIcfhQAFObMFqrMUsdz\n",
              "FEnk1rLzeLWii+uNmJYXXtY2wwrMcqBbrmeuMv7FG2QqhLsb9bk5zAcSeNbY3ySanv5UA3BHIFhS\n",
              "6a49pmCN2Nu3BAtz5Zxql/fczqN2caVAw0cOflQAQkd4pLcC/ys8mNqL/e6n3XAoyUgEGULy4uYe\n",
              "aOice2ZaVpnBBTyrbv3Ss0N30n/ls7N+TozSEkIFJj52nVr1jBthpOoGMog6Q4vt902tvPRwY5G4\n",
              "WXfVetLWdlxzvNqbvRP5ROgo/kR+d6NoAdHJA8CQwW9gur6BFVs/4Mgioml55w1SXkRI07bbDGlf\n",
              "oVCFNHFvLBGtEMH5rQmfrPlfHbwIELXZcSpAN2qxQBZ+8M+m2RhCHFZcTfJB8M9ehuV9PS90aQh8\n",
              "3N09zq0MX90DppnMnxVbWN2TcDH0Zpk7s1ZfjoEYBH9scDmat6+GCjS4qS35lXjwSLS6fpNb8H/S\n",
              "cFpbe+XN2Zor3HwZEx0STL+qkrLCK0H6aP0MBr2Tqgqz6Hxi82EG9EU7tZDzMtpnFGknreEFjxEU\n",
              "oaXHiCpEGMRksZfV7f+1VsJ0y4ANZNn7KcfD4mCN75imsbYuCQkYpX3UQG4xUqknA60R9Np5wkiL\n",
              "nKks2EqGlKqbDlsk2ebY/jfp3Ni5Gjg+TjuzRqHsYoTeVJuuMIa34GvLlVCZjTgW8X97LsGLH+9B\n",
              "DA5H6mps+bBk5X0yGkdx1IFChfK/yo6XN77axDqS26Vxz/leor7OsCi5/zg1Po/Mpi0c48vmD74P\n",
              "dYA7oo7+6d7/ykPpKwIBGO7uhqsXruqGlTLEpo6GSrVz07WMSwYRkPwQitkzhHI8aLiptLdTVYbx\n",
              "mcWDUrBdHilUNtDMDci2Nw1hl0AMW7IQT4xrwA82V288UD+7lieJdIIeWgiZcB0+Qn3Ozn6d1hXq\n",
              "CUs+ONVRCAFyjRnq6zJPV4jGK+hfjdzVJKQGaXeIkKmnbJhW1/lQ9a6vC+eJfyub9fDB6cg3SLUQ\n",
              "pFlFZusi1xulJptlwQ990lKdjnxgK6HcjwKao2EULmx/GeyzGEkHg/sp0Czp+GSg1Rqp/p26X0tO\n",
              "OdClNxslnLGUBOgNYwe9IGIuEGVNkkuTuFKelnsxBzQrfLfH8VzfnHQyuBG3eZxxKMg6hy/nV+6s\n",
              "AtR33iaezAUD01a6MWzlfsfK9yANIEpvOpx5sOSP8F6DnpkAg/1TBVKF9TUhKlLrGu1UiJXFQA2X\n",
              "OVSCkwwO4CKbH3+fsX7PNQSElZyml6Mkv4ZxpcZmAvky33yUABSZrGx9GaoNqC89GYdRN9JnPrZO\n",
              "LXfMZUt0ZnyIKtUOhwJU604vl2mo06HcDF1ctLMFFxmLkfFyfHYoQMP3fRKrgA60Xd6XsGtP1UpO\n",
              "gI3QTbF8GKplZTlrqZkaip+bn63tSbh4BDtYgr8GC0oSSSO+6Hyf+/m1+XebnPllc3n0G3JCIylS\n",
              "yW/PVwwIv2nnt5VlAF5ccfUMtN7l3xxau14O0aZxcQQAuq4864z08KaF2xlzi0pyXNyJptJsDakL\n",
              "Ybnt3uiSi3XFSjD7iCIuwOu6hB5ZscW/xhaf5UpH0lPk/NeLlEcDae8e/hv3ipt7YKEfkujBY+tm\n",
              "QcFKAIIRwlzDK9wSHzJdioA3sSKmjmhgoKkNFjblK5VX5On/T5qyVaaRCQ7Hq0+UrsnFi0VENFL6\n",
              "7e9OU4d4PZE3eMxUSECQCBaoMGbW6V1lwC+Zbv75k5FU3MkOIYB4TqtcCxtgPBGTmSjNS2yIZP2I\n",
              "JzQhmIgP7Rk3dkE7/yXMROfmYC75v1MN5Lg0Zj/C8D9kCEUG0P74NzSP5CGuEAh9cv+6C9+fWptH\n",
              "1yMRz3gIgoMqFYbXUKFikIzoHxDFZ0AkjOynsgP5I3CZvLT+j+XLxN1rs8ChOK7EaROaudfIfvdW\n",
              "MurkXeA4I3TyzzJ0i5sYYU2hkcF6JV1TZOXyAkgiIJ3SS4BX/b+EAkS55B2tSV63BCZPIG+RZj1R\n",
              "WzuqlRWM87wuxA/JPwwqcu4JSAcBKZ/XRW4PBccCUP99tC5SQEHN8jcfWSiBfHaQX7u2eSX+iTM+\n",
              "neooJ85sxSi9OdQLpWK1JmYuHL03Ku+L4aYRHL4gNMFzjKfGsv/tfq06AbBNcaWht0t6Jjjnkh6K\n",
              "QmIQq4jSSx5Phd04WYSabwyXR9D2+0Wp9NyomTqKYniDnVuI5ywCEQ2AcKAAYjUCl40nVEcBLlrP\n",
              "5ZIVUNwX8G6OOI+0VtDP96mJdS7Tr2p3U2Tdrt0VcI6tTEHkeYSQO8oeWID00uKsKB2LFWlh1v74\n",
              "yiusU1B4EV2Ck63QktLp5YtHV7eXUIovSW4Zs+V7o3KhEsme2nJmoO66FpJ5sYQpOFNR61bxo6Lv\n",
              "g8CUQSezUGHoz/QoqevXgdVWpsodot/0jr2Me2U743lltBMk/8V3knpTUNnYQNprHTkUkWxOhThK\n",
              "BUvnPjfli2wMyXCj6pjS1ZX7dOPtiMePLvcdY1WbRKMrhuDBE/KZXxxm9HBHNFrT9/ZxP4p3VjGM\n",
              "y/MTxeD1IdKsQcow5WpJ6oTX+m2VS30uhM+svg+KxFnWRjwtJedX2kxFeEI/3PL50rJNlawnej6Q\n",
              "+3mvqNbnnUWqAX0M41aPR2aKCbBLL2Wk7hD44TYNX/RQAdTziyCzgcPW+gfaXAOqZoeeMtOp1dAM\n",
              "X83G8ugmaYEbM7CQ2NiQZloItDMN46lG9bkVVHxmDm/EKz9oPY8q1fzPSmx6tQMCSn5W+eecOZD1\n",
              "AOqRjZK7qv2i9NCPIRJHt+JUnzwfuz8n5NZ8cHx3rX8gixlLpCLhAqE02pTMnmX2a5699rK3VmPZ\n",
              "B+R5Oah2S7ABvACxbv2Ci/UNtn21ajJ2jEN69anXgG1DoTUTOqph6dGAtf3iDb1MuzsAvIftegXV\n",
              "K7M8ff46dNg3ASZucRhBirCZix5k1/wz8yKrPeUymadACBT6NZpX+ZwZ96Gn3tFbG3CfxGObuUZl\n",
              "D+bOZJk899SfmT5kdMXePrMx77RggWXbu191/BKWMtQxuhFrUO/PDKrYvBTG/CMsVQnsU8+XLHCA\n",
              "M3PrS0sibO3Bmn9W2StfAwXNKF00FoNYeVj7EkYffHR2zOPtyiFAwDjkvKx22ZfmRUkXS3HAeH9p\n",
              "E7S0I/4wJp6vw0E+fkKaiT5EzqQIOJEXGB5kKXltz10/9l4JljRRxMrJBoKan8vymwAPnP+5j/Nm\n",
              "5MP5kdojaIbCxj8vidm79873C049IhczULF55jjr+j2KtRgpULa4MtPx0dkPvbThHyZuartt6JgO\n",
              "sI0mFqI0emwKxTbMum+JeD01jfl0gdkMX61GvqqKtoi7aXAF5RvUisaL3B322pkMrVWO/oeUMSW0\n",
              "8sjcR8N9LINhBclrXfcmd16EqfL9Lmh3IpwZFsu57J4DEMy/4L20S8csygNt3oV77L/L8JWnS4Ok\n",
              "cpcT5/9tCuUuoRk17UFYeTI0W//+87TjQtuPAE6v3gGA0rCPQWLmlEcAXVUXz3DselAU5GG2uSge\n",
              "T9VaGk+m+teanKHv7mjAOsto7W5jxSpv23cmiB5kvBBM6pLYK0Eld+pJ/f7tL+LZBS+WpvmIfcKR\n",
              "mpNFdxtevAjuRI2krBjf+4YaSCp9WGOgF2PGIxAi47mRy0E7axoAdhkbvaVf6JjIKIIRuZj6d6DA\n",
              "tY+LEIujIncSNtvKOR/gRp7uw217gsMxvaxrTceTBSBfa9v9hsTzoVECTuzmXZ/8Ek1ZPq4c/4df\n",
              "oSqSLoxkmcBVd7JxfGsVTKaVd7rDuovqqHIyp0/12uaNsqromszGBvsKiCa826druCLrxSEWiV7g\n",
              "+FoQl2rddVzvb4Gx7iv1xhKccPY17OUL707Q2NmLnl6/+E7ju8nX8E0RmJfkrgm+YR+uKedsR+GI\n",
              "7Io4Vi2qKnfo/+6ZjryYw1uTObIbe8OndEvFSjCK6LS+qaBeFxY4TETJchLa4Qs62bUP4nQD2YqD\n",
              "NM8Nxm0n0/s/4yZfbkoHjv3d+9ZAb7j8RF2JUlGcgz86zZXs5RKvpQzICcWd1BRMW9sJn0Rctci8\n",
              "6Fva1aZVOYvMAriTJUSYjSuYSRpBZllg24PgjH93f7LPBVbSV6QmErMbyjo8nH7ytuHHxqF9IkQU\n",
              "OijZHzc5vrmFM782bHJIa+0CveJzLjxEgDG1y+Dkvbm7+HPwWeUyEFht1DSGGZPdTK1D6LJKR/y6\n",
              "8vkDvlRXdb19hxBvptr35I6IAqSpNsBHTLZTMr1coPr9DxI+A3nI+jtkmnVsVr61N10tHKzts97E\n",
              "0+6zwzEFbBqfygQlxrVY/ewl23w3li9lL1dc4+6k7w2WVZZkTy/IWS1hUdAp8X6qNIvdk0y9gjzf\n",
              "SplEny6wvqQ2KInDNU+SPL1PLuzFckJunFz/PWbQC1MnrMKORQF3/3dYcZPj40NfnCuZbASo53mo\n",
              "bXQSXkTGqxqN8ru9pnRSsqdtAlROzhelcj03KHsMEl+Zl2JorDE/OnOCLC15Hiomr6CNO6fSMntF\n",
              "EsqzA1/B87+Mgllf3xj3TxR2gPoKnOzm48AMhkbpA98YUOQZHkArx72FS77aZ3l9r1mKS9hFWWpA\n",
              "141POuWcpVmlqOIGErzwH+Y97GQZ2wnnGsVvpkabtZ7EYGgCBVpeDjacvxUWVmBsdRggXTorOfWL\n",
              "ELiQYk70OeJ+/3CCp6F+Zu3BaiN5h566IsHj8ulP+6T/Lgchx9gaBHg9ZDswDiRztayQ7NY3ylRK\n",
              "zDxKrLuQvFE4JlJzF2Ohj43qLnAIVriTdewwxqjALxllEbVQvpHuWCdkEGjlV9KTJwv77WvDyETz\n",
              "Qxa4EHaYpKUDzLN5xKD33shlK3BrxsQrltFgKtZA6Fs7/iCfOi9JhT+3CePB2IZ4lRlJsRJQ9HJP\n",
              "pHMDaMCUNP/gmRI1UnAFQJQ/AH4hlAssRWXq+9QsdzCf5C+662LeG/cYnHCFbUs75T6u4qQ8zeIM\n",
              "KFJ38w/o9rNcCVfc1HqVnu6pCmiIH0OtmWY+SyRZMBUCHQTfXPFWBkX3Wh6+Kfa5+uW9aJ57RaXH\n",
              "UoBjSF0s8nN7fMfvDbbuxLgrndImKGtp2yYjAzyEaN3dSGCF0RFuiU2EK/uccnYnetp02OJnOvj9\n",
              "Klw+NgblHe6RNgepIMXvVDy57u7ERHmTH7U6ZQW2Hhr3ObacFdIXaZESLbSeOIU6GItJ79tgV/LT\n",
              "BbanMqnyM4RkfYmnLrb5ghVusGyKCMWb3t3O0p1K1qbHAawcpUw+ccM0l2cnCY97WeIiGg2eztjP\n",
              "F9Byx2fWupLKGA+oUNYdln5nfQjBECuHrJ5SsNbQF/WjWTdeVI359fypOb3WrSE2Of/yKa/PNqNY\n",
              "rYBxQgJdAjXzhuJRBm8ejAN5cqGd8Rqy0vqeEEvLJPvHbArne9rgZP8jYd3LK/gEr1i3AkiYBBPJ\n",
              "rFG5zghKxMqGQmyeu0gZSxzYeJ5dUXRgdKaryhLPwmLAnMQZpG6Q143CCupb28Va3mu2B3LKgdJP\n",
              "d+d3csDWmtW82d4HMrmoobFXBjIR8vYQKmUrwquIMOAHEjlI4ZZeMwXZqQ0681QCifrq5oU6LG7D\n",
              "JO3hYRueS0bNZ54y7+nqO/5Rp+Osp2bXpFEPxers5nd8QQfrsGS4u/NKUcQD9iZSY0GTXs6omqQz\n",
              "oTbVY29crprmKPyJRpn+EBbwceV5GZoGqCMit3OqKraLzslFY2xU4dHTPloivkUQxGJ84yjxLRHA\n",
              "g4MGTXfhr+6O7wQWUXq7sHgiY3NBdurprUXtxvysHFmrwUv85BUQJObW0ZD5z1ARgFXtIMMIiAsV\n",
              "annmVsIyVIVYvtgrb2XDBNQ1W54No8gwC6b9YcbcH/yxN+Ua/BmFTNh+qkYup7M0Thgc3ieIgftq\n",
              "aahbExAw4lJonbtkUBvGoFRwDCsrXqMQZSyzWvlf12uDJzQJtZISkfwaTslw7nzuiX75LHvWEEKk\n",
              "f4DCCur0Uc/xkemRKnhgPWz5ivkMz3aFAp80wFLHAn9gH+EyToucKkkwJlWfzmMIQsEoVFMM14La\n",
              "5VC49QKLvAfzn8xvxz1C90EnIytQuZpKurhwX9GHN6ue9wXyfFN8dNMOItdBp6TlElmsQaKh7lj+\n",
              "EcuBRHyQza4P0P2oDQXp+W/K4T21HXuHgEDkqljfZGXHb3lRv1enMTEejkjpSNfL9tzvgtMIepuT\n",
              "6Of7sZ9xsl4eq8w3jgTgUEAfTTF3s+upt6coM3paAB6MhJnozJGJ2cuiozjaJmQME9n7LTTvLpMJ\n",
              "8Lt8xuGjqrkpeeA1/ih0NJue7W+CXGr8ffp3fQfijAm5gthphvQOiYN00xvz/MEhZJI1A6w6wSUl\n",
              "ADF6dXi7ahi+pkmncYxnOUSjX9pte//6SIOX4c2AA5H/Im2EcxWZWPib+CdtFAJJLvN+iY3es+SO\n",
              "hi38aqAWo1STt6NNLCbb7UTrvf8SPTbH2X5lOi7GvjzUdoga9qGH/+8qZz/jtw3Ni7W1qAmsxWXR\n",
              "nPyACKEouNMEW7+ziPiSX9Bv05d5W2Ns2uFpWpGQPpYIrM+EwwlezvEFGhjocfDHSle6Jo+vwAH8\n",
              "jGiURal9GE4X++mM5HD6SvDVV8kObTeLcg1ooEc4rYIxT24X9hQIn0rB6xv+NTb/h9sWiWetLh4o\n",
              "+wUMbfSwdIqTG/+oYUboQ9fOC63ifhif/VLpdxa2BWYUanKdwYdsOZabC1m83Gtjz/emJW2rApt8\n",
              "zGp4doUfFvo5RPZhqkfC/1i8Lmzc0Q5HXyLyY07R0zq05Z2I95TKOWZJK0BBCVZLQhfx4LwazB4K\n",
              "ZXZTCqlbQRGZC7FkrjaAfZ167z98/ZiCwTi6D4UYdS5REXhTpNJcRk9xFacsQyzqvt2cMNzV9le1\n",
              "vEDCNSy58F9V4NH5scjKTwuvaeuQR24qssKiGKulC2ulCesK8YoQJR/ol8bpWqO9yjDpKuUfLDX2\n",
              "JYMjBuV+QHs3WimEU8MiYQd+rf+Sigx7X5ufE+eimkqnTMQQ5Hv5umSwFgHXZjlFB+KagrOo7Hh5\n",
              "P9hXIueNaAABcjNi620VJk0QFsCL0XznPKAl9aTscHPLWjw4b4R0+l2Qq4xU8KP1SmWLSJj+vKuf\n",
              "YjMWXt+QbotBolevOSLIgflEk4o3IU28zI/a7/VPhI0lmUX5BgrquwrV/iCI4VBHsxPwN9BuozwC\n",
              "JD+EgMu/Ar9PbFYWwFDuV85AxsIQ/AB0BTkv58JmlIHi8qvn0qEmmJPspZ9nyq+jhBojYT8Ixo4N\n",
              "VQTihWLkW9FKjWvCnP7IzcXR0Yw2KLo+oRML7O3ic12/LierZtZFPvvnI33zPeuyQyNdRHaqnDZU\n",
              "1tvlxQmQb6B34007KY9lfXczOUsmHKTdmlHUjyVQdhVLmxccw5znsmdeOj9dCSYFUjqi4n4R+I48\n",
              "XZpMhXthGoaNGjmD6BttcxaQFCXZvCE9/fo/ccBQxcXjv11ArvAIsJ/EH7MKT3vc5KOA71GEd7zL\n",
              "ur/4v4ztMuPXo0XDoay0Y4WPsKX7HTKG/rVV6P5myODKqguaPAJe7MRL0YIaObonNCZbx/dFwJs2\n",
              "/CmII+m56gqKfs6CN1NFMROB2/RyU3BMZ4B3Cv7MoNoEtmL0ICGwoGeHhcivIYg4ee/fnNnywGj1\n",
              "b1OrGdReWPIJEzs+Fzmb67ckAyEbiOXwtp1Oem4vOQkoZ4M1iGI/nMqnXia341nT5ItdgMyojInT\n",
              "NjRfRrZGgwKF902KRlu9EEGy4quiUO36s8CraoEpUOobc4pb2R4atkeT2VpeHGEUc89ZgYCU1CKe\n",
              "ACdryOKrOGKJ3ZkLx1SSBblixkxE6QrOgZizEyATZMDbi8d/15jn3kgw+WLEG1gmWAl56EwbTvCP\n",
              "JflM73815duU8l/NTEMzhAHA/HiQitTAxETwh+/w/t/7P9SC+M+57rI7mPmtD6PLXwEl1dbN2jWi\n",
              "yDnisgAwrMIa+Yx7XMciEug7LdB3LUWkQjJYjQ5AZM/Fq45QRRW0/luIMQe3ujJdkvBde+k2L+oK\n",
              "U2VdglO7347aCUahe+ojuR1aTubUQ811RDZTzFefWTdADXr1O0WQIpjbrnkbzAZI/J/YIqgO59rq\n",
              "JqhInSOFioaNKUYGnu1MBQc37hKGCqcq4mwbdVFp1iyS5Yt7LfzFCbUyiuZ8UV2gNyHN0jXYWW54\n",
              "FoJnAMktfWtFRD6vAd81Z2gbpCU/qfbxy2JEuSplu/azrkyNLZaUrtHOBNhhq7XjL4oaViSsFZF5\n",
              "kStrSeKdhIWT2GKuAzRn/1N5+WU+PH3hErresQzzhQ2sj6Nx0sD0WqVAIiweRBtCxWkuYP7Je8N4\n",
              "NvVa97c9edVK0NzLmhq3stGpqDecDlX6wiOQ0wgYM2lswco2R6gjTjlPikBWZdKLgAtcjINNcGoZ\n",
              "Nx8f7rOzvWuwDEuS0UvEa6Aq+xQyvP/VGob4GDPhdGi7XA5rLeH+N+311GjDvF7Mzk52ZFCyI9ud\n",
              "xZptkU7ky/Jqeu3n1A1+Ox26ldRzO4L1KHf92WiTt/vxizuRH52I4tbkuaHsxeENtiV9YdNzEI9k\n",
              "3j3rdQWUKKemOn/KzuXZ52QyzBcF4ant7XdMfLr8c1DjwTd1AesESrdoxXNop7Y6zwC3yZW1dPL/\n",
              "T2V6XKPMSf3YlphQ/Tnfd3GpCykx5tPTUmVImebpjpIMKt+jxAhXwt2F8bNTIqEUVZ/ZToACUffC\n",
              "FqG5p1uLgr5pYxArkRhHXQHp/Z5wv8K+VP/CcNGsSE4sU+Pgy7bSQcPEJdfw0eNRQZp2IEfYTwfX\n",
              "sYRnsbbuz1MSaEH32PfRhDIJq4P2Z8kl85lQ3aKb65Gpv8fyf/W9lFRbySHEXg1cZkNOEEuQqJiB\n",
              "z1YY2ue8zTu6/y72akTdu00qWstcm5+BbrT+fVZ6wizzeDM3xtrAJ8HV9QTYDd2g6knF1K3diL6y\n",
              "zoMktZXPJClS6yxzvg0yGe/idD2KhfjdrHNBv3464aaKSiXh6oq1IzvGqokEw9+EAbo3HeH3IkN0\n",
              "ZeyrLhWtOG1pkPHXj1qY3OFIr4vbzowI1zdvkptraFw/pLsoqDXXYsmHz2Mb/VYJ5oWJASPvw4Vo\n",
              "jP56HZ7r+5KIBxaaDnVvYSDOzwO8/wdxcjuzX9cC1sk8amNc6/1dT3ceEIgwQVisdpj/t7BWi5bm\n",
              "dWyjhrXwmIy49QN/+ntAxCCWkT3FfG5Se4J4a0LfRLDM5XBzQtZ67jda2TCPCG5rm6ivPoGCeLLz\n",
              "+ftGfFV5fnvMgPx2yZcJb7pMRXN8tlwA2NUPFi0pIXNKPyVCPikOPSyV02QJPwykmAIcvzJhuFqB\n",
              "22xROBHhR09mdpmuj+bxdQd/8u/HTF+T0IuoaK+fnC/Ds4ieYfOFSv5zmR+FINI+G8KsWrIcxlQC\n",
              "NV4gska08C00uSMxE4SNHo+sPzYTVUvC178LyTx5BBYTWnGuadrYe9ACRx+ST6b6qmMzANSBPiJd\n",
              "Ht0ZYGGkfh+dCrx0KsROT8xZNJqPQeX5w995i833k08Pl3kYBeKE3degMmx2AAhLEwxGZyCrVGng\n",
              "e0rx/qgGxny4zlLCv/bwZNb4GF6uxPEMsfSvNS6G9+Ly4AW6gryF8Hy0AluU/jL0BPVhq/5E+XKB\n",
              "8/qW7v7NEC24C2cWiIhyY2pJLQAXZ2py3+oGipMxZnjyaJCSdWD1ooLlPBaEm7t3J7i44FbKssGa\n",
              "G9uKfD0h2M4PfYjD6h5PpVSwntEweVAuaw8ka0g+FDijTUuxLVyo5Mkynl3NBk5UIyMjrZ5Z65F9\n",
              "jxN0cW5qSeu77ES1iFjyiJeBWO7Osp5QCZgSGyLTJbDUblHDJ/ilsxWUZQ0sQnY7nNX2H+DfzH+R\n",
              "x5+YLi+TBm9BtyzaU87Ulr7tnVBjJn+vHMtBDP2Du5kuk1Mp75XclnlrdIakcbHEcCcB2FqteGDr\n",
              "vEqrtHwB53PhN2Mp8vAxHykw8RrKfjdB9WngDu5BO/MMHmzJCjkkSkxF9/EaTFSicdOX83yw38Z2\n",
              "ict52rloCOAcuPtab8xfXdzMjhfJ3fG9MVFUrwdsTzGO8aT8e0LlljRD4ccenJRLSHZ1u8Yrzn3f\n",
              "N+s8Hz5M94GG9O/yHBztW5kb1H2muD2eCnKngnzzw4EcpG5YfKRMiBNtPRsx1DDe42pBDekMLaKg\n",
              "aRig2YkoxC1UVbaHkfZ5zYepKDF7RluO3vJ9tm6KMYHZ5eGEnjvpMOFYN5OlCcaC0bMavpSxQtI5\n",
              "TKYKRdi/fjsONEHriGeJcsp/Db2PWouuQKREDL4qflaIGLk79yxikh4lwQk5LDQ8wq7vG6qBQ+tK\n",
              "ka00yvGs2eE9N2wVXuFg3uWht5DKP4UyD8OgYmIlERHaiJvAZjtv8RagkdldvqzdeU6oObJ7xHAJ\n",
              "vfAZCvcULgTqIXiDf9NJyGZBiuzg75ke/cEf2ob2aHFSmT5eCAGJFfAIG5hfC1cG4/YILRMt34ZE\n",
              "6xSxaXcz9Qbn9aWcthHRAhh/n7dJEjqcKSNomYsWUOimj0TM7mA9Bl5umTlZY2suSgv3YmWn+8se\n",
              "Uk2Vm+ew+siupt99U7ioR3/uXVsUN5LWu45KUqa+RgUc1UoWa95BWZLpnB40AksUA3oVFFsuZkUf\n",
              "hI9c/nUkE31dHSVihj53hk3NKS/gfG9aaqS+4TEeaqfUSvS86+cY/UqrUdsy7v/Bf9V2GyZQ1gPv\n",
              "BSTaLINMTDOkmtE+WXNlb8u3FjwVP3nq7JPmz3w0wjvYJGictOCtMsi+k3pZAKqD9gXtXgKAxvfP\n",
              "6Nj14OzN0MZOuDkTf1jvzF25HvYewHcTflw1BPb+3oqnafkaNgCe2UuyyPzYP6dcfvDi2UzZkywb\n",
              "ojmGB2IVclmsJq4jMLgBNmGelm8IYl2db6pUZ5ud+GLrTCSJzU/SC1rCkfMPuRQ6f/eSk1c1dPAd\n",
              "qN6ToV6y87FnyyQW0K2dOZFeBpAapNuZCx0tIoY0C2xu7DiQFhlCHNlCiUcCG9TSS4Fapj5eNb4T\n",
              "CpwCG/zBhQa/+bsTEcW2ls7dp/IwBKN4c1fku3CsQjixCXRSTwvsfmpHiL1IwR3gA75enk1pjuf3\n",
              "wQoM25dexnkr5WwU82nXt/QM8516zP/q81SNqsqkiMXheh4TSn4HWwls3GhyXJsKVXeLCTb8vvHA\n",
              "WxCcfuJWaAbIWonaQ13yabbp/UXGCUv5nUGtJV+6/l2EL+ce8sBsddqC88gJTncz+irntPbKY6OW\n",
              "dcACB21zLjmpv3HO6TpcpL8A/YG1mObqpa3t3DQCddYIDy5M24PXOjNUP7RAeQ3AkY0KL8Jidih6\n",
              "85urUG3npxmVxkpSi4tkZ2uV5gZPPyJ1//+ojcDyDtNDrkEquZnbDoGF+BP0KXfGv3LuRmvQUxbb\n",
              "ezHGp4+PfEsAZkObCb3bG9o1PiDsAf2vHoHIOWxm/fq9jbgD6onFoZe3aR/6iv+RNQDrNhf4uacI\n",
              "e2xid57LxD+BGrBR8BZ7fg0Ss6ZAzLJcS4GHh2f9ZrckBU4ozEq0R4DeifnDmrr7/TgmM21U3FBK\n",
              "1oV/NtLTL45V9tV7jsazFfGT3TQ9gv7S4q6NlCP7kg7cO/Nurvfi7dzWVhDCjRzLweZS/QY15a79\n",
              "eBGWC4t+3PVfW8gsgywCwgQwsNBwvCkM3V2+28/SYiEslJiSWMGeUhBWHfeKu/svtd/281CNbcBN\n",
              "M3rD0XR/2u06WkhoAOOV8Y6V7+aPTEABmAmuSyY9iv92AuCblNrr9719OJuFLmYvCa7pATvxqrCt\n",
              "WbEgiRh0E62x9Fj4BPDZ1TJ5Ln0/CVd2ZziUHQyANbv7LJJsfZSj1HUSmOOz4h53ECeJhAJUVXK4\n",
              "3y6LJbNXqHIcz0I36d1HG6Jbj1o4p/Fz1R1l75nhdSk05lUtl4ys4fK5Vc6sAsFEFt7vUkKVPzl6\n",
              "K/xgGFG4TlK5JN6N0hiSlDMSyhZzD36dnnMssUiVpcZEDMDSFZtPLO4fTXWSWNUEwFDCdwkdOs14\n",
              "Ob/j/G/c6F2jGxbE841Sq4iY18R+8hGPzwzC3zIlPOrr0TPKsYbnd4PDCjpdkHcWzWxN2W5TRtaU\n",
              "koH93as/7si5tbfatVE3sYGkwHVeKJJABvd4fqZO/HZTBlSvMcNxBPb3E6ZdhK1YE63nJxTOHUf3\n",
              "TQ0hy+9NvxM8ADYSzeE5fuTkQ995sSxfOyGn/0O1pNRLU6mCcQodgcr0vuIbjqOjuh3gjnlF0hKa\n",
              "5Pk1jnmm6ch/WPzkrSF9MXpswRPASYZpa2ILReKPYjlox1is+oTUBsUDtNygNIUvaSMal83jyKvR\n",
              "fmXa98VMDK+ja3ll1EN2edjVKKVo7oQHe85t7a2+cO5W7tBgyXVmH1h3PRR0+xtQQqr5YIZrviyZ\n",
              "4v7dKWcDIakGeiOFz7wq2zWB316vaZjdoGB4AxAT6om81AhkBH2oD9X+7IlaxH/ZS0dPtiBWUbaO\n",
              "D19NvN5U/OI/CkA7hess8CEuj7q0Rn8OBpz30uvvMd71vLkL3bOnOglz7ra7UWnbgrrHN92o3NnQ\n",
              "OCV2PU+vjutcFesZpxrQyn8rcDKw79+dDfqwbQhtPl+MyMGB5drpAVRDj0PBN3U/ORvzyfR/dVuY\n",
              "JC4uG2aTitopTzXR1z7vHFQSMT5CViIltHIJLDvo3lhs6YumGRUjwDYap+nFUeytIk07TTYlq8+U\n",
              "fcthpYv8LcR0ZZIuGscAl3/WksxHU+hyiWfC4a7YIA+j6i1ZmEK3auRJAEe3o+QVyT777I/P+c7j\n",
              "/wyMX/HhJDZuBZ2KtLVLw0RfMpssoBsgbvQIt4vSlf3SeiQ3v/GDYVprRsknfwnymYbVebEnxW5v\n",
              "5+hd2PKOzKbe4bpwdYiVm3JWR7YLNuFUJWAT8hkrfRAp4Fhw+eic4oAHzfzvnT+sS4Z9jx5i6hA1\n",
              "6HWdwrK5hBd9zhO+smVuJ8QpVkbvaIFlSH1R4cEiupY9ZH37bP/1Sw4PuxVQra/rmp+IeJzC6hTE\n",
              "zdqvZb5egZrN15tRJfsdBZooJGUaO71lDJTxiUcO/jG0Ursi81gdxbsiIAMu3CbJSuUVOyEQM/ui\n",
              "D3ucLPe0YnTav7wFox32P8nNFh5GySiwNXLsTGcksvHXmuMUtaKfqPvSGekrx+BOr1O0dtY/Agtk\n",
              "ap2qY2FxNene/F8mGn4l57lPZ344KEMwJXv9QUHKqQALeXshS5a/299zbHl95FsIYaUGw9nhm6W5\n",
              "/AjfCETCXbxVI8kP2Y+gFMuS8PHTn0NbtrJCPLKyAtgOY5r04ZRO8Zbt/nX+2ObIdz7rR0JHP+4f\n",
              "vI4oSb7yrYi/uCys2qvT0mOByGLrF6PGO3Cg3jsq94X4pSv6y/hnqNAWsKUxpXxQkbvthsiaEzZV\n",
              "aS07qzoHTMkCLCMzO/eIs/YRyCsjLXIc+17s8CZyxRFmApiUfbGuTXRBGjr1ibGI7ADQXwcYz0AO\n",
              "UW/aTKo6kiee4ur49ysIAa9HcsNvhjTqsFPBphgjfWi5r9yycvI3h9UR5o7guLOiFD1geffCQsDa\n",
              "Bcrx9OToAJi7VDD6FZmOJyRmh5RSx+sGvSQWaHe7V4e3uLqPTA1YHWQH/y2SvH6FOARSbf9BucGI\n",
              "kUFlr1uCOATqXXgzr2VXa4KN3KSz8bEySOzVNZzJoCKp73eEMpqO7BFVeDiIOKdPuCcy7fFNiwNW\n",
              "tB5Pn6e5eZl/V08FISTJsICHPoVvnNN4ss9+axGN4eJuUJhyjxCYSeGrztSMHHkdOSpVhJ/8JQZK\n",
              "L7n5S01wS5atsWthJvkY6tmSRbl6kWavaxK/ZsQ6S+nspJqM/tlFI6mpRjuDct3RWxUFBKTH8JAR\n",
              "gFovr4Ww3oHffa6XBfDu2ObLULsbCMrFcoiYlK9kS7VPnAekiT1EbcqATaQmWvaYwroz3mCRXYf0\n",
              "SZietrTBRR+vr5Lamy0nkT4/UhRCDkdKLQezRhxkDacYhwubmGwdfX+hSodrJBm8uISyeVBn2eMu\n",
              "sWl8iqEWx4PX3VtVjohpcYwKZJpW7EHP7EljN/p4sHu6XgjVSv4X5g0FkAdvIWdEcEMpgo/P6A4m\n",
              "TUbtf+xeLC1Neq6XihEKhs2Z2d18AlBZKZ+zIQtBv6o5hM7YpAv30dUQrg1VaYG7DZa8cWUNdVF/\n",
              "MEYHkdmBSWzOF2oIvrrEmBrqe6rlryLqpEXzW0Uxar+Qcr7J8e4bXqG+rUDMBq3oSvghQTAmdNZw\n",
              "GlzUEIHWfbZJFK6cG1Li9UoKzoSDacmes8vE7hZ3tSVu1qmRh3JIkcljlMOQ7dhw16pjsFxxn80A\n",
              "ANAip8SUIckFT0b4LizR8KKaeZSFxmo94SMlqyV83Pgpi+IeI0lpF535pyxQ3vVeKf9QFplza0vR\n",
              "fLNCETJj23lvMGqCz+3zRK0C3lzizBywESt8WJYSHch39D6Z6eSzo9/zzbEPkJqlBrHpugnllS6C\n",
              "ZtFtRLuGHwReE/wG1Zq9Db/mpB2cEvPw1Eqjks1QIMetZJXZ/ERd9BpaszSOk2vuGvJGXHt1OH3U\n",
              "z5vPZmOyyg4rrmHObtWhQS684rNEczz7JrYYB0uMW1y9b4X6QQRx2maOf28I9p1ojwQGFEzqwD9Q\n",
              "mbydn3GVKaSt5InYd0Jww8eViVzahMr2UAvaNHAbVo3JDeJ5HbcNhORIRQNRCX18JCr2HJlcJWvL\n",
              "FmjAAxcozuPfOxI/W+KoO9yf0sbxYcuVZ60DaMBHmr24qgdjJVMq/BaqJMPwHhATywUTIPQPmcP4\n",
              "CCbTOrhDbuBHJ1fxyzuktvA3K+pF5eTCN/7l0hsuTBsrTeLBUi3XkxkF+Bx2PAfcbJQ7axBbPcw5\n",
              "mytk70+mNeLvbN5olXfDaLdz/JqjbGa2kC/cgjKsh8xVaP9zWS7pjUdUFfvkgxxbmbUnfGaX0089\n",
              "fr3ERjvbngB1wV36ndiymLHWpNj3nLYaWMBKfA8UFvFL5aklVoPplNQWyNtB0TorAKEUz/pOri+J\n",
              "35ZL+uvmfj9YGklTze6HxszUrMvFNdROCIVlO+8/BucUTtsvP2Z7Fk69wsVp4rhjAJQ4cgglYXGP\n",
              "ZqwCFm8+RGEOKLm+Y/31UHwssT43LqVT9cGjR3tDT6i08PBkiOoh1Tjx8RdaJUpMB3o3aO0OPNgN\n",
              "q5yg1jFFlWTZHMYdoAUIgbJ9Fs/p/auBcQHs9kNeKJqXyvZBt4a4NmNw+PT2+aQ1wh+UwKMpAPW3\n",
              "MiiQBD8nG8Pzyb4vmXAHxWHB0ardLPXiwEVTStnVnBFpc0ZeytyPYwN+8/oSqzGMNc6dvtxf6MSm\n",
              "PcjplIYzPAtsXTSnIedVfH4U8fBviha1tCwF63U6RI2OmmsbZRN0E1rsTPyb3v6kGADG+aCxfTkI\n",
              "ur5TJCAATJTbJM6QJVoLEGRx+JKh/cA56uLMXzjY0oxWvSMNAGbCArmfq4aZ4WmtlDVxnGQDjBNl\n",
              "hPQ9pOs7viatCIg1NFyx7QToB4KljDhU4ycI23RWXWCkrmfVx7F4i3GdEXPx9lLm8jhjKJgd1YUo\n",
              "tf1NyFuFZud4vBqrjQ0Xf5wye0V/mLt19uUtXPXznKEn6wdvsIeTCMmAraaNzLVQx41nLt7tFBrA\n",
              "xmVTu/HPbs+3Qf8F0slNvRDoXHDdgBQBZqoN5Va4jNS6t3JQLNefxPfKOhQnULSEty+xUJmwTupM\n",
              "zKZp9Cp21a7c7F2ItePEVBPAO8hJMtBcgAYvaHiPVDStkbX1wI175hc+Sm4Zb7h3YD57jMCOAAPl\n",
              "ceir2wy/dTWrRFLm24P48NRs/ONOeom5HDVzBV1+TcpnGKRvo9SfXZX15K9MvKW8VxmxLpABb726\n",
              "o4V9WXdCUf49dtwY6nisX4gYHiSkyX09CqQPmkWkN6hNi0KGtgt9Y6p3eikbbs34Skzfe7Lv9Cxq\n",
              "f3n1ZlBSpjPYQGRLuA2i9qsBevcBYbpyCQnEEcttMhNG+T3GYHZ4p+6xdNBfGmYcam+QWfft/owX\n",
              "1MterGJ0QvHR/XvOOyNUdPCKN/eH9H+BtZEM779uV6vvvstujeiOC8VsucZFMXdIdaNlpDz5Bgk9\n",
              "UAlbqSjd9iNQ2MqOZtvixSvhFI09ne7diMnPtUUb5jFz1g8YDKe0H9+S8M3Em5yXC3/aHchH1Z/d\n",
              "7FAwaXFbgBKFC2wVUxlF27khNgA59fkeQKJQ/wA1FJd5oRjRJKeQCewTOwBICdsSmCmL6st0cTKG\n",
              "rf8AYfUt1iFZIE3jFBoMFAHqVjbGu2u498ii53BMSBGu3pv8eUY/EEu303Uq0iXDz7EQNhxVpNg/\n",
              "Kz5B/JIl4KPH2vvICpGfk2y7nzm0ZilfHOBranutS+6gEMCufMKTsdsj9iOGoYKlZ4oMvwrXgJmn\n",
              "053jsMqcM38Cj30x48o9MdQIiPhN8GhwXV+AkRZwzW3cV3WUUB3E9x1vb0PSNUr2xi5q/sRPSvP9\n",
              "7c2gosowUA0L869UVEk/bPWf5oewJpEsC+E4SqNhi3DSs2QRwrzP40DlsQH4PyzGQOSSrXTa7XZW\n",
              "tukNdZHD7AKUAIGpz36NTvEdHL6eQzZXtIuOuQSfha4SMmbZmi1Fr2kygTeKAkPxboGRf4BXgyEN\n",
              "93WBmmKCSIpL4mQaa1jtPHNHo5bC+q2wUsz5KHJUL/saoB01Ao39x6Ft8G5Un0P48qe/iheVdUiZ\n",
              "3rsooFIHYwGAhC73Wcl4jyZgrSSJUGfOiFy3ydmw6Rps/8QUnxjYKpNQ6s+OksaYKPEWnQ0sLA2d\n",
              "xBpq3CeTfIA8VP3lLYv1TdptgRNNbR/wni3Y4opCokWaHZ2atdE8iZhd3iJRXU8zCfhKErBQ9JHi\n",
              "RnQRx+/o/e+uokP0ih6+UtR7Q1rJHMFgVD8KzBBt3NEHYYb10wj36DklF2ltIC7UNIaEZ3gCsdUR\n",
              "2QIgxRLiJqua4V5erWIXhsWQXfplr7v/XTGBftbfGqi4tbz2mmqJr6WtnaMuUC3LPopWI4HR9jZC\n",
              "j+LIh09PaItvuT0MQ4NMi6SijJp8tJ3Qjzjr+moIi59Ngrl6XJf8wysl1G9psqpJc33MX1BvwFCh\n",
              "SnJj3atwhosK0f/kh4H/mWIHbbr0tJoLgYMMDhtyz4NFbjcrkvAlLOUiAjP2FBshp/+5eQcvhmk/\n",
              "OH3W6y7ggV7aihBzEzzLofpXn47i+okQgJNG7Bm4d3PPKIOjZmjN84kk+tmo4O5Smj84JLwATzgz\n",
              "sZ88DaC5S+TUezoo0MdJZ+kvq7ToO+ewHa4cV4ZhP7oR0yBAUsxk6tMf2nBiDpUMautcqfEYzPkk\n",
              "G+d56LlP6H9IkMmzkECn8OfrPPKx1yN755w/xRBZp1bKCxCQbH8zyy/YuBAgyNFOXEwkVjGCoWbJ\n",
              "CpHpolZyAxJrQqFS/nTuNSJAW8NwQN734G2KqOo3Jx9afuHHhTYwlcHnYwo8Y1U/08j0U45Ewu6X\n",
              "gV4RTG9ygXnJKmUn1ccCd9RiOfEQSOQuagkC5/4A0dURhOOKtSgVJXKFkOfkfgjhhe3fPCY7Y/BA\n",
              "hCLqMB3Ri8XrVdwRXPp6Lx+Lu3CX+/1oNqzQ32Z6LdgxY8LjMJYjBraFhCgrZmlENp4h5FZ32VBg\n",
              "QAf8XB7VVOkHDlxcysVOE6Tp2WZ+Ueu9cox97UOmOwop1v4yVqO39HhjhQ0eKTg9ZNKr2WrG6UDP\n",
              "hgNHdCaDRKjBQb+AOnxBLYGl106QZEQGi7AvM0pW1VvHIf9o/MdoN/0RfVXrVmZf1v2crR6DXhVg\n",
              "uUlchpxQqNTenhkSBa9Y+2m6AOJHwkdi01FCPRXbYHwJDyEqw6c3NZOPW0n8ZK09TJ5Ibv7gqIl0\n",
              "T0vSNbCrJZuOitXmKEX+Bdt7NyXAX0z3t1iznSb3jYUNatv0SrMM3C3ZqDpyFPFpcsY4XKwbiMyD\n",
              "DCny3cjXzbCj3DAvh5/67JrQiJLiu/TPBCj4pXELNoZHvGDRw1i5RE+9/P1GqU0jUwqez6LjCMLG\n",
              "QdAtHYg4HHD1jhOzfP/1cjwJVVvKwg1I0VOtWIBZ6fR+jGGwhkyo7XRvlwyrgd/b5d152xtyMp27\n",
              "1etv25AtCy/2sv2q6jx1fzdsMnKxwjJvhBh6A2TI8dUJmjFUfulopsbtfwCAAMZbgAAAAwGMs4he\n",
              "0M7chDBcd/IlIZJSvaVft2xXDmNC8iBe2eu1vUD2r3H9fs+KM8Z5Jw8MiItEqr5TsAOIS5CJNdxl\n",
              "cqCi+VOKgCdAhpKAHrf9Z85rdyteUG1lRVQ41K1w8R5Ym28bk6dM7041U5b62e5FHuLfb60dKGSG\n",
              "RLZVlhJPEHqIn6V10hfrsYJV2YqESfBhpYEJFXDOqHHjsBRREHFqhzduUGc2g87oYe2br2cWN07K\n",
              "BFvACqHxzrYSRJ5LNDESw1910LpgfuNV20jRLTvyGH12zB8DHGdZo5djvDVcF19jHX6RiBAhs77i\n",
              "PhxT2kVwbXz7A77yqJ6vfJqBruN4jjW1Ehc9JQqNpEIT5KNzI2uCZFTMYTWODcq5Q8Kq8bco5vHi\n",
              "hp3e0OssMLzYaEj6ZdobVwqMHytzuBZ1+id63nXHb4FQGH3fOPSnKIRy5MrLCxgp7gyZO+CnFX0s\n",
              "NQqLMCz1FZOaSj8Re9yrcxYOxZ200AKF6ij5Uq5fdDKLlYJSajFnsodcni/ZKj9fS0Vd2AyBJ3IE\n",
              "3zfUtxlIyBc19UVcDsrc/VsbI/ueWb1kpBUzDfnARFE+KT/U8egBDoJeJ8ZCTIOSEB7D57/gTtc0\n",
              "6m+9YIRNqdOahiwPaO1zZc3royfz//za0zWoPCfQNXnhVFaaxemzomsNycx1uRnQh4YyzY9oryFe\n",
              "sa8DS5G7efIG12Ty3fFbNZ2X+sWs1+vkt7By9aqacShrVR7tvsZ6WpGRa+uw+rl5HTmINB3Kmp3U\n",
              "oRHnIAnPxF9goQL0L9/hffPP2CX/pooBrWD6jYXZ3xIEvXFPnNvnaz1LcGWOqKGhBr1hx5xniYJr\n",
              "dw23/+rAccVpUxhShDsCi7mZtC1rLI5a+aVM95OCdKvr1f9wD38A2tC6S4gsD4Hxmutd+KAA8vBi\n",
              "4XUSmM+3VcJC6RMgbDYnw1JQGESzWN+6yKXsWXfWTY1c2IRkGaQ/BK0w2T2McoUbh6KA5Rnuk8zf\n",
              "kwilubcOqIMy0KDTZWx/NaRbMYhcjXiuYru0czQnGEthhnCgrDyYe06PfLXq5KxDgFmaEQci5qa2\n",
              "X4JM0b61fXgsYKKv9qgJ6uWA9qlvL7i8GfHdMID9F1QlQnw9nWKmh0IWTLU6bfHagIq+VFD9wag6\n",
              "jnLNdaamLwDW01M3Ag9AtkyEBJ/hGyO4gJDNRvFFLaRvCJoxUlt+SVx95iTWQPe1dTYi31r0bbDe\n",
              "0p/xiyUkRXBM9Fy6hnaFTnDnZ0WACFbLXlP9QXsg90FAx5puXA9U7ly3uYwtAgOnagNSMqySVbdU\n",
              "3ApHAorPORBoo16O5rbaQghD07CmixmEMeMvDQsSNlN6dzVSS686tBKyCJ0YG/QKkrtV5L1VQEgF\n",
              "Rru0x4zI+gVs4OwIVNdDmkBQ5wVuxut/MyoSwTeLi/3/7yhqTdzRsI1jb1B2/fjn2L965f+uwenB\n",
              "5g9Z9zaHha2hb7Pgm/JOL3Ps2h6O+crxvKfD+1B7LJm/K0tipxqqxtRMtCr7lp0AzjRX6k7VnuTm\n",
              "GZCzenFZZZLIbSUyUsPKaO8v51O48niQ8Osz2jpI6Z6OUWUZQBgDzEg3oNaV5UFLu+bwKK85Hz9J\n",
              "baHIqNozL3xIJsELG63CbN7MWL2O89dKvdgnwbx69jtKev64fIbeNmW8yc+rHxJ6NNJ9q8l2rZsj\n",
              "k3cFLU1kKGeJpxepk41tw/FTNqgvWOnZBM+tHvdhLp+EGwpyWmKzpcy8yG+9M5LZ19KXC9EvdTLH\n",
              "kItXrdlGSIP4jF2IyClyArvHmZ3Zf9DB4yAu6BIavi5Ek1gELVfAp9Pirr26zlsw4s2zONoGCB1c\n",
              "Hl860XqfMhjh3cuti/Utyv2VIsSwPyvLVwVNzmxDwDAI7u2+8pghKpvBv4+wjUKinGCdrsgczOo3\n",
              "EaKB/nRF2PbjNxgMaLZxNIFSj6kKihOYgU99rA2avRvqr2UOEOTIuDO8k5VQEbndd7sq5q5hQ++e\n",
              "ws6Ysvjpvivd9AF5pInsx3+zfKKzJZACOEOfpdhLIeGXB45edXRv/Bnuqw9X9i8c++r1ge6qRgEB\n",
              "Gi3M5wbxM+AnO0BZxQ5iCsP15/mn5qhEWM0Z8kqAAHbH2ZsK7BknaUa7OAOrTjhGYjjx1CA5Ydq3\n",
              "AZ8x7x3omUAsdOLv59JAzrNuotaYtUJJ9A+qzgu1J4bisU3aMhi8DS0urwq+qP+vHytyqwdZw1xd\n",
              "ImVsyBl7pa8pm8O1Q4fY9+KFMaDYy31LneK2rLEjBQeUTp4lNdaUculVnT4AmnKZPvtsz9MW0Gcm\n",
              "tlS5V7HSjg4HzM2lNP5mqv7nWhhVghCvC1O26roQq+QIlAg3djWfSOcyjoaUUdkjjH5tsTXfPBAU\n",
              "fdRWf1btSPW7Fc/EMPYOTU95HICe1JjUkxJVa3agDBzCgXstF+0iIK3FZPFx4ygxB4gcv3v1iPTw\n",
              "VaPeKyJvuIslR8CQwUbcvpWDwmW8kvr4D6OtOlnUMYmjF2p0dqeeWKCA04NvTxK35ejT3t5b893b\n",
              "UFTXcyhn3RZOBSF/lO+n+POSa+UYPWfQ7HwgJ81lb1ydIIaCt1bIhkIdXIRI+usiUSk4UPKkYRkV\n",
              "dfP3Pf8Yfy/a1OCe5KAHYLN2Tpwsv728sZ7H2L6xhEIqr1rdUdDnB9bDfWNkh4+cRfmdxHurFj6P\n",
              "Awq9q9+6UuhjyZREOtxGgybX1VYf3P7i6pj5WhsR+Qjxd8a5qnlpsgOJx0TuzrlX3xYD3+H5iupw\n",
              "IVBujr02QPQbkqiG2t7YO1qFC3uYT3plafBYt//JKe0MhMoOMfPcNhl2ffHMRDcOXXw+U3bnmRUh\n",
              "plpvPurbOygzZOfiIJ70ICBe/gnfTSUObgk3rP2/5M6rWNZBt+lx5+mhkVGfK05KtFBXvHcvOs8p\n",
              "+qGu+/EqpO1pr1L07lRsZGOwsNEsRQ0vOEgIBzk0hiBYLIgw67gOdqJhR3dqbKEjXW4+NsmdOztu\n",
              "KkzGfVss4gFIZQz5Hwe6K9kxPcroutFnZv2AiqdS7mxlst3bfliuphor3NuGQ3tVfcm/4AiOI8aj\n",
              "atUtiv+cEa7phd4SAAbg3qm041rxzelk9vA+/LjsItxPZ9GlMKCsZfg+d8kcGp2Hnl87fq9B7QGb\n",
              "jM8IYPF37yf+bGt8vKlUtdOhtH3ejugYocEsdqo0/rvOXUUeEZNThKxWLKV1CEhb6/yekVdX+P5Q\n",
              "Qx9RGGHG+CELh8XlwXop+u8ULr0KKIXZSMAi+qEyzdvhd6xAFHBHvO3ElfLCaOkUSbzCDaNs6UZj\n",
              "wFJAh7Kp6gvuxfWDwIIqRrN6Qk6XTL1nt7wdM2vQZVsx2mp+OaAF1jMmFCq6ykljzQavoWvCMMSH\n",
              "RvMobT/MK15cS1KacCro3eAi29OcJlQIxiDGyEWKHW2c2HhcuA07kp2G+iYAAAMAAAMAAFVBAAAJ\n",
              "eEGaImxBf/7aplgANlwUmgBYVSshpMSzjhe0UUlzfMFSUXpCG7MvWN4jFO/dfh4BRXoqly7MxcfW\n",
              "wyk57mREiqfg2N7WfLB/m3IdNeXkHdZLn5yxTV+KntufPjWv52uX1lZ0nELDUoCayebBadaJ8jDC\n",
              "CYh5R/KkyOw4hh7oFNQqm+7tvXYQuuXHF9B0aw1HUdbK28wVhdys5JidfY73BpmazL83WTjH4Box\n",
              "ib5Yfu7/57m3NUBA+PBn8K1MAqc2uECPKwiiK/3M1V72O1t/w3WiMPID8cUHvc+9U38W90ehnz1p\n",
              "IIn1osPw2sXiPuBW/CNozJvdL9k+AvEQAm5EeYAIGdz1Biuq6wFOcZqqne4hP1beU2dp93PNF3n+\n",
              "0p+H1Md/qFK2WYPPU1P18jg4Xm+MP9HbcEtfo27GaSpquC4QGNnSE3gBSq7E0jrovySVWRM2Psmz\n",
              "VNE+da67gls5CjpBPxnFHcUJ7fKQzE8bE0lCjZUC1BoDA/e+txvKeuj8Ezss2SY9HaJJuistOth0\n",
              "gVgHSWrVHTN6N6XFfLkmfoOE+sPBVdcyAuzJE4cxfm6mQMZOkCi30sIUup++rVODAhqHx0ZVJfBs\n",
              "ORUf+gZAFw+cwQ0PEqZWgzImLuGUjrDAGrQJrN/2IjVeSYnivNdNsnSORVqHPqJJt5+IIjcgJ1op\n",
              "L3rcoAFIjUwYqQV5QW5IDkFnO3kngRd6c6MpQGtgOZlzjABgl/EYKH9JQjUqrztAkHmDaHRoMrNl\n",
              "DszNpgXkSV7p2RzMJQzDlnXA0xYiBCgI5qzy7NuyoYflO22wgkTu/GlcLNgpSAGXQSiOF1qHY7Rk\n",
              "gEsiS77UeNzIlDypOIWmMAkrFtJSv3LhduRbZ4/W8SN5CrbU57ubklSLPlXX3kgewfeQ5Qa7kFR8\n",
              "+YxUY99rYpxGUaRLTQ/UiJgxGj6+SkFbPWHPcoByRy6uRl0nWtUUTFoBZJMuLq7fiNy6MzNbB6sm\n",
              "/trrCcvyGcmvwsSSCDKCaNuNq5fcHRKNoX8l6Lv68Ykx4wS0798CjI+pXRKciQEXasHKgzSFyJTH\n",
              "EOyCvN8ItLAzRwQfhlGAmAqJVMgRQ0+oHgt4Ba6x8PCG8u/8pjpIichpGuJDSUov1RVCl87507NW\n",
              "H+Q0n43zjvHtVJFRrSuBAgYJmHLKwdsF+PvIygXc4KqWJiGt78XDMNq+Ct6V9hIZxJnxDVexW2kj\n",
              "EMbgjxaNVzOs+Krhl1Yh/KR4XMtnbOrlZEVE0oXklvvoZuzoDRAjOBbd09v9nnqAslJLtoTH/XJC\n",
              "6RXtITthg2gtjrf2fSe1MvIS2834xZSlkhAF8JSr9Ff4OEfzVNPDL3IBl89oAmYaXEZK+8x1khRM\n",
              "9YjEOxaQG1X1c541xBKimhnENV80bgPTAOgwYojt+9dU/P4yFlJI9h+nMDIbL1BmaPjhQNoWPs9M\n",
              "GRsPZd/TvUQ8f6Z1aDO7irrIahIxOn8b5oCq+hwz/JYTWxaodq9gefsyLmB+dvcLc28A+8tRmVmE\n",
              "TYsrtZHqGq8WL3SnAe71SkQ9cdnVPkf2ina0Kdxu02589ZG3Ky8X8URKzw68C7dA0L4bpAFDH+AJ\n",
              "PhWumnuRp8r5BDEKYzJc0foT493TjeRhdDx+DvVtJzbnZGOhQU8Vuv9ikk6DhxfFy1+TcJk9APnt\n",
              "rfK9YT+crA8PLV1yyOUe4IQD0IhJ5je8nxUbVVgaPcHkU/fqePQJOSR+0/QZisy9Zse42udOEmR+\n",
              "9sv65Ucw7YWwJ2Y5vjAgUcVQ4MvWDtVKqT7PAk/JMTy/zRVCzYZxBgz5bQRy1DlgWIcOOQ93lLv8\n",
              "NfJ3ZwkRRC98fA/xZkCHfysSHR4tvMefJeEU6dXUp3fb+VA4VGTBaGYLIq8skW1Bb3EoIrD1PcRL\n",
              "cy7PUdZykm/GiVGrjziXm4ia/eLN/xCO+byaT0Cey4I0kRgfnbdEpaf6wmQZXCuH+mWPbsM3FFPP\n",
              "D7QVYU0Y3IjcTwyDbZsVE6djBJeocbu4bK0zAPYAy952+SOljxGYQPX4EYyPaJL2f86V9cHXyF2e\n",
              "M7DVYLKdy+/oDWTcUYf3BScD5ubpjoYNW+JWHDthc9HqznCeFiFCstHcvSP171D+/wpwd67k0ClA\n",
              "Lb+iRNKyKLITjhHXRFXCSab9Umq8c66H9MFFUaJqLCMyxkftA7tBAKfLPKOtTmtBLA2xm3sUENVB\n",
              "pzl/tqOztOtav/2jfYALjGA/pH+wY7wj/RfTL4WpTVTxcAZCKyBBKvsnRM/cPLu7FHS44nDTzO8k\n",
              "k+QjhIPE+Th60emqMem17jD6dc/IoDh70gfLPZpkXG0yu13IbGchviap4rELi6ZEhmfUmwlyupzx\n",
              "j5ZdoVb6QOWgJVTMgSGsi69/QH7ae+1/UF3vG9Mh4OjaeAGCNp0LqKWnAzmfZDzREUjkNxtE/+j3\n",
              "eS9dPUPFqYJBqix7Y3l076s5Mde9YB3oIbQqaFU4KjEGPHmzJcfY7hdKEQ1SN/v5fmojkSvomJ97\n",
              "VQ7ieXRmdL5klF5+rtta8X08h8v6NVbr7sk//BdSTeb7HEzWDI0vI3gYiRpwnJS20nu4xw4tvFPA\n",
              "g1pHfJFmsh3/+UV54adCeMp1AvdYQqrtQX/ORTUHfK23VJ0OPvfSUKoRnUbuirBXIeqjrjLbMaST\n",
              "qr9Yk/bmTQupv8h1QynbkZmgFzVqqG9bmCOh8S/vU093cdUIhi/rWeOSIyv5fHjc95VNJ8s4M1wU\n",
              "rq9rZnOAlkTMHPj4R+6v59tMano2py0MAHa0RJyJf3gHR1JJK2WikqXCevD+PLs2xAOMKqPszHl3\n",
              "TB/K8dvw3uiJ1WTrAcU+pqFDQe4wSZpsnm8wGvbXD6GssZGyhtoZVpVqlcO1HITeo+hJmgR+x835\n",
              "YhAwH8QhVnowa+X9hOkWZ8rf7Jfz1LLZAwCv1BwwKocsF3oDnBfdXFoxRGMQd4+pKalWea9jbm8O\n",
              "FOm5yzSrojBxQpok8rY/c3bLN43CNAA8UKDqq5LSrNOdNDY7TmBkhVel4wU/kLRv6k8ymofUIcZf\n",
              "ibuncWBuEjYDTJOzKB5rgT4hr/qL1/gAAAMAAD3q3Q8RUVtFArj6+eu7NODq7Y5utW6MSGjhnNE3\n",
              "9LVb766fU/9oFnZC2lzn6dQzeSnyyH4l32Z7zJM+iJX95aFL5WZwOhJQZHflRZTvgJQBC/WBjHcP\n",
              "Pxfe1hAZhto7QtY3z5fKIPB/HcF/zesV5olwZnghYAAABfYBnkF5BX8AACSSLB/04pxGyiEjMii0\n",
              "MZNrO130QB3b26YuG2vWwlQEN5OiPzZvsemp3Q3+qXzjtRSXubpX3zgyj1ef/l8PYJIzdB3wfwoY\n",
              "50IZwffzgK1/iuT76BATj/l4RMgDx9Zszx/h5TbQuGqvT2vczw5myGtIqXF/1eM/W5fnB2YdD/TF\n",
              "w+1digJtqPUubS+nV+HfMc4Tg6uWpxGWvRTbiydETDJWBRY9XDJtFTJ/BxcBkJJuOuk4qCPMnVEa\n",
              "1jvNXbVdmZdvM7Z3NibNkN2ULHJ8GwUJJku71MyR45IXGJTdDSdsl7VgV3TfgBD5f9ZgBirFtNKr\n",
              "czDWfd8ojmHtBZxJ+5+sNfTG0tgm1bqw4VYDyXgChUzxozuMp0vnvWkfkfAtsyGRzmQjSpd9lrAn\n",
              "ydg2jeZcJiH++78Wdv2PJUnKwKglvb1bYBwKveC2NCy/ALje2Gtie9Eoupxn5eKsrupordTKsJPA\n",
              "A7nh4UHGpho7Dwmdf2RgPkBgp3WTonE50A8/g44LyfR2wob470uiC+HJOAPrkiTb3fbYxgeMVobT\n",
              "HCsYuX7dg50yk93n7QV+qmVJ7Yb4HOVZTL1VRD88qGu+qbOoBsPR0jNdrg2SqR8dK+RWglJTMNyd\n",
              "MvQI2tecTJuTkOQSOtw7LJNGLgOlbh/NTz5XpOejN23QhW7VKiecvXbE0F4Ix7MkbBdPHgLW0JR0\n",
              "AehZVfwY++QQVI/VFvQdgtK7f9pQTpLUCRyAiW3pRk64YV4RCJYGIu/Z5Km2xbI5peQ8CvQlbfdn\n",
              "/H4tSI/q7AAsGt1AlB/OW22hpB8QRHOl5XJSq5QJn49aCnIqy9HQc0PTPex6Ip6+XT98eIoxDnzo\n",
              "08ItrDjRWeAb++gY2YX/Lhe5GoR4qQ59P2xFCNwxQyM20JVcn9MYF0r0+tizbMjZ11Fn5NKMXtMX\n",
              "kbr2V3myccQWIwRGp2GsMYgiXyaB/syyBXQBZViUkbu/Td17wMv9BXZQhLwtSFZf39bmsPGpNmam\n",
              "K+zUp30pJ4PyKU+uRzloiDpxErjYJT7+tMi8mEPEbwO6n0LHcSJkF9TDBHRf8FnF38gD1u0pTu/m\n",
              "qqXNqfC0Y9IvsfHZNTc5orrcAfQYDw7gO4HIBnI6MwJDJozuSk1873IdzZ8SfetXb0uMQXRQFB1Q\n",
              "ACQjLQ0AJJNL14IG4ooQ9XPTy8ylZj7cfrlRzYSlYMm+kSDlwhpVsoMk+Z5NFOJOdM/nuCPH+zEJ\n",
              "i4c5Y6z+BkrHKIPqvRos6xpeBX02L6j86TAs+BKU//UwfWPBy4ZULvPm3+1yac5IstRrKU+mfIHa\n",
              "LHryuaBo8OoN1vqeJ3XYrA4Gel0FMntKn3+gL8YVG7rBxClhuEAB7fOuX62zb9hliW/RynwBE5OH\n",
              "SUyiFT/S5BHEaEI18ncIxulqrOp4/PS1Ux5lbF4mKfxxil0yhyGXHrGmsPyXb05K/ZCZe/FEr9gS\n",
              "PCVAVanHe+kWD/S2QbK13R3PiDcmRo9qeqxUnIGBWuTutpIHth52WzIEJ6e7r8Bo5h9WMV5VjHNx\n",
              "VPd4PQ2fe7zDrZtx+xWQq/KuynPkyGn8pgSBQHHlc6j9nOUwU3Ywk9djQF1hc7QUIZi3k2OW12ds\n",
              "NCLpr1U0sOed6mS0FQMm/4iCYQQksGM+BBdBuzXF7pwKohpiWL7Y9t/fxzlmAT/JpT96eNroNQFy\n",
              "N1kEQuThjRtdHaIzOa/GIajaDBwatwHWsB3D94zy7VnH1nk6uBRp4zdqbBZsbGp7onpb0rKULgTD\n",
              "R6nInyCq9WhzLdvzJS4Kt+mFZN09AOhEPHTeUPKK9M4oE5S1K3GLL8p4soyY5HxYjA9iLTBse7L1\n",
              "aAfAiZcqdOsgFArT90C1LXP9y2ZKJkP9JV2KF4zANjsuHxeYeqY+WKbi7/+ZX6fCFEq/CS2P7gUe\n",
              "xfw+l1ZySZobiFEt6eknSGduuZi9vSRTznWPEB95WUwKiP+tVEfoN2zn4jsnH97x0NfszpJCeTB6\n",
              "a/ie/I8STvxIE/vEAAyP3fYUtWQBMwAACo1BmkY8IZMphBf//tqmWAAAAwFKNOhABUqopQqQsy2r\n",
              "9QmrJ7L92o9yFrMKbCmpML0vhf6zvtUcd67kB50hxY3pEQlIZymF0X7QEmGgjuMs0LyvumaC6mpK\n",
              "WVEeTEwqwhGuyLooYFmZxXPpRJyjHbf6no/bxaAmq35qKTvEsOwfgqHi37HyKmxElTiE/2A//xM1\n",
              "6ztaqc61ujgi8ScroC9vqkK6KbGu7wEDnaBou43CEebBcU2AVWyNwlkuaLPeht+UJZqGJOPDpuJs\n",
              "8KRUCN+YA4Mx7RhU9009kdMac7b7jVJ1QuO0y7ypCFh9vcINP+WKkx1Z/D2de/mmqN+z+KWl3Zni\n",
              "P5p8mykHIl1M5t68h1yvMY394O8rOXn686GNuNESyRnoLcTry1xAkLaY7DpngKy+/FqaVUYHkZ9w\n",
              "Hcl8xHWhrFVxQAZYQkHzuj6sR7bJ8OW3e3dvm+/s92W3sNedDVSmHKYOavQyN7qAAV5rWk8URwi1\n",
              "2Ax6qBX42hPR38regP4k/FRzBoQSjWRSYMHAZFqn1Q4mW/1N2lBWrvYElXmd2VFADqYW67GJObaF\n",
              "kcDRyAY2sEY8L3q12JdQ0+8GJ3J/N2oY2G7aEbDl5tRw73R928wZkl+0vM3V/uSyTKr71myLQhwg\n",
              "7X02UFIcXjr5PtxanYFYBk9RIHDL/7UKIuj9znARtrrknI4+G8alT/BvJVexCyz/XGKkWiD6ouyu\n",
              "3tykebd3QaPx4pDMhUGlhLyqepoopYdlCYogg1yHcNHmw1aZTv0s8w8usXu1S/bprCjFtSeALzlE\n",
              "1RVQ7OX2oPD8IQLrRmZKl9zFa7G1D5Ec7XEhcNs/63hTPIVS8co8f1beXMmbSLmeAOUckHzFSMm8\n",
              "+eB5+T/z3g0IOnuve1Yn8wL4zq2SOJ7O6vymBigqs+Gbs+XkP37L0CktIF1xZ6T80I6pAn7wFpMa\n",
              "mHn+zYRlL4M0pr+nmRNj+OpW59hP78CAwVVlRaNheHYRDRbmsCh1iC3Clci+P88a3cuGwrUvRCOH\n",
              "s65teUYYwDsesaV2uV9QzS10ZViWCvUd6wpmYLhR/mZyPKXuB2LiwdMdHggvdnlgOFCHrBQ1rLfJ\n",
              "a66jba763tVJlPzsZgGqEyO+t1gzsYFR9Xj3Vd60LLVeIzi4TPof0Gjp3oWUsQySKgfrJGILSBeY\n",
              "l8WfcGzDtOyR2kheZrwy71pvzXtSSU/RfexGm+BtFa0SaafEVdlzqdQffny6vxXZdS+u7xowXaOn\n",
              "B3PkXBmMWCpYpCHN+S0fbQvKxuSbx+7cWKqIRE6qGcjKJTolIVE9Qy/4yK7cjSBHT+9gQUs5tQv/\n",
              "I9ctmL89wVLp/WfLDLb22ii7b40qSC5q4uUQzNef4kp8iHAtdMi/rtZ8+FFnCDa0BHnWWAPmG46u\n",
              "QlYyReHha3VMdEN1uGamhLk+g6i0IuQnqvHliVjF8GHScqPAzKhI9y4aTPZPuP5SEwwk+WoPiRZd\n",
              "o/Mdzz3IP/nPOxvt8y79JkyLFKlbs+cIA6DnrQG4TOpY85FasAAms8m9mQco9mZlxi21Oep2eWgn\n",
              "/AaI9AVN+rBXlQ/QfGwLPpRGACHS8ACe+rWMr68qxV9rnRhCLAN3np/bnm5yq0/VUMA4CqwGo14+\n",
              "Mel6ybVXClZcLtKYIHkKz6LyfaDfmxMwAiT3FSRW0F1jjt0WCMOcGdW2ryO/Oj9GZZVFZDH1UulO\n",
              "2sybGMTEmJ20ySMgR0w+nZGNIXIrSBaUczuDAFr6TRRAtGQsI19XQndkOpleVAzAuW+Aisai0Uz7\n",
              "qvyfd0532r3uSd39TRdIUwv+vkI2JCaJ8Vgj5Qv2R8Kkw0c/MwKludkUZFJd+K7D94ah7Hy/GRhr\n",
              "qh6NJlyd7XiIs4aKbtnEdl0cZZHCQ+izf1JoCxZzoBscu/ItHRS+j/4cGb4JdFrmZ4jAlDO96/J6\n",
              "jkZXwEAKa+wvtySeFs4vdF+uAQ1jyEnWskCJGhQ1GqbXuPXpeHq1n0gIEekcTaEsn8Vf9yQnv+qI\n",
              "YGOEUzw+7mh/fj+0+9Ov9q+kj1h3ErKHJnqzaaVQ/ETCvc0PRWDz5RDikLifAQ7EG99BzUKF01su\n",
              "p5ORFRogehRwnp7ZvtrbmvVoEcHnRsNxYOCpJE4Nh+FbsFgC0o8A4aHU/g2KUTBNNtHu8GBilHIx\n",
              "CpeH2Y3D/oPaeeCAtO1eMJnvB7PhUjys3MCXMxw38uPW5Y7hCY8sAP/OlpANcMB+AFaox1XYuwbd\n",
              "NF1fa6Rs7zh/cm8yJHhkbEwj+5CiE9h7a1dGfgeu481PqJcsaru0NPCCoyabUAv/1bYJzjOuzc7C\n",
              "PvMb9tBF7Z3pqaTQhpjN2TukzebXHgritpkwze7+GOky+VuluHI0FSFOn5B2Mel2X6V7kAHuOnQe\n",
              "eP5UX3nHAnmruLbTentqsQeZgTt4Bm3vRz3XVDFXqApye+DBO0Mak297PfEUxtp5WBXL55NuYaJp\n",
              "ozShGKx7Ir/sjBT39ymPwab0YAQ6aDkTbeA8R7BwZBQbTjg2/WmnVis0z7SruGmRh2BAzEjyFP5I\n",
              "557Erj+n4uKsT+GgKnLqcLy0eiEkJ7VZ4YnBc/yGUBKsfb/vpzTZjQZsHu8MAzNWkqFcNGuce4mx\n",
              "u8jaujV2dZcwYf2/hZz4m+9VCVAtOiFhF2n7j5RdTIg2Ot6aIz8eACsIkJ8MxBHl6I296vH1h8M/\n",
              "2OU7xVYpH+I0boKrbuJHvIrRJcVcuVjfk5wzxmC+XBDNVXcv1p2lSgbC/AsGw5pcADBMc/FAPst1\n",
              "NYBkclRq+NS6GpT0xEaDGFhVAmUj98wBLIKs1DOe8hOaMHQmwPkilIEzqrapNxbjSYcMUDsRYZbF\n",
              "00XmoJaviLrMb4wSl5ur2QdCNs5sqvPSUGW1+D1dzUfn5W2tiOXhZwtdbkHkfFT/Tuv7JjxTFFMa\n",
              "EcdjbZ8vcjowZi2kFpKrVt35EQ/cI1lHOCgjpBXIlt73jPl3ZdeEyrpnc0vK/HColctnuzmItbTt\n",
              "TbSDUNDyB7IOcgy4IxZtw8vGPGnJRkzpi76bfTtBtYsZC9iTCPmuyTfZgEQeYlda7LdY5dboAGRK\n",
              "Q9X1b8X5YsILk6BZQqkVeQuWUh9O9/6FQQpgT5lph5B8B5Vvdtq9kBZJOGW/DQ7JCU9L+ULHggVP\n",
              "kG6fUQ4FxYWUXDJ3dqrWCnNkxOBtRx+apnw9ovuE1iW8N5QNqJ+dp2CoPSgBOgRpBrJ/n2JmlGo/\n",
              "Nuwzg6rcQSwprrQo1F6Mdc/I6Skwap/c1khtOwCmW0crvcMCzYy7FpZkgiIQ3HI3CE5iAeeRtlBa\n",
              "FxQM+R80y6DJo8jEF8oyiid8A8A6xlLPMVcr6dZLkFdQ7PcZE+3PbTPGfUNk2p7BkF6YoP3PInqM\n",
              "UAZ8BhMGpIzYlaKDCjWJtZnkpUCEBN96l38KdkkZCB7RCijonQCqut9QvOgrnM7FJXYP48Lu+wl1\n",
              "sXhXm/6eCnMzJtKAonG163JV4Q/J1/28UehF8mwmVBW593OApbOu5TY1swyKcbyKK6FEHfWrgz7s\n",
              "9APGTWqF2dRnhmsLvZckQQfxdkNHvDjeCVh+ClDuG7nDIT8q64Oke6DjHgQsnwaEAAAHxkGeZGpT\n",
              "wW8AAAMAAXLvma4nnABbGstwI9ywAhVTtGC/87U75mcWB/FEtV6InG/9gBAyLc1Ond2zvIKrpRLt\n",
              "zX5m7azq1m82mgUgFcXs8BmS2QPdVPf3RyKPPHo9XItNuMdun9DIne26nviSMiDUT3uEpeLiIWJh\n",
              "uHSRzVWXAvALL0yBX584Y4wKIvq9l/m2lAAthCMqPBOHhhgZaaXZRWqpHzhsEpp+74+77Y7Gpj15\n",
              "3mP4huFezF5m9ovAW8TARhRAmZKb4llk2dBY5u2fF/vhRrNF5PhXf3ZgyjiObvc9DZAqCMQmEU6m\n",
              "EbnPMyBAfvA1fwlCN4cU4QjEKLC0avaTtEZ3udUPZgAumOVKlArllBGaUC4QHod64XiSRn8061uN\n",
              "DXRUbf3OxMxdHTBkG4mPT7FKOT/5Rp4R4e0g4VntSTzJWYGBAqIBbTgmVsLngW6QKaWIbOMuUpYd\n",
              "Bb9CcGOJqvmWxa8JSTDSHzuaGRCfWIntmV8v6Lvw/6Sw08KB3AVGJv1KKABo9PbN0w+Iyy4PUXIo\n",
              "mfrqEC2QXCVNS0vM+Hyl87iLcfTXhdizQYiBU3PEUKWtQWpb6or6DAWrjGfRzX34VSL40V0IyVjV\n",
              "tzFq9tdUROiy98bbh5AIV7jXwVYhZe+ZEkZ2/ljlXNHcnlX/mcx4tZ+wFHVb+Tp4RO8WQNSJw1xO\n",
              "9fduG9jjxVFi2ai00G7fKmkNFHVVIDzM8KLgbqR/GIwPyhSlnF22D+QzvF6toZWFfPd/IZUaEg5A\n",
              "VU0mapygclnfP8Cy5PTmJveGb1p82iC8CFR3A7blu8WPxePIDSdg2PRC7GeNRgxf24BL5z5Jhx7C\n",
              "lFXyEGcoVOOmMiTkk/haMKCWRe/6VhvNT6VeuRjdrGB9jzLy2Il8xqLnvpzjSvNvvqKtLylvb2lV\n",
              "qaqRrE8iBHwvdXr+9W5GXrzUB1y1hzypnW59Lw2ewSlj6ZfPpjGW8dHhClQQUoSrGQ+EgDiZYd9K\n",
              "ogG3Cx5bHYWpsoDuxkpsei5+glAcGqgu/+j6wm87CNbnYPtwMVeUc9XYkawuxkZspqBRWKjn1OFz\n",
              "ywLp+gs2ox3Tih8Mx+TYf7HS02+vs7Sa5/YQutWesxvD1lHmAcSXupmnHppydMv+NCLm6B6Bjp3K\n",
              "ecvJHE6SMeg9UsK2VUoffr/Sy4ZiTiPh1b7j3cgsf/GNiwX0vYOguR+At7b5DLol/giLwj/kMynq\n",
              "q4l/lZ3QncVqrFh5PDXE0KGaW++lKin+jDzjWp/JVHGdZ/2rSD9dzEHLzdgEID35SlcgfZkPfzxI\n",
              "q/rhkbs+zbWUvHhDuW5v1+fetWf6TrAKXyedLBSZRMldsbag8sdrU9zuhTcb+ku1zWeVRwVdX90u\n",
              "quJKllux7vcE4+sgE4H9bbj+xL6s8GCVF3jI4jw2JA776fnC3rDlCZI4mml5c0RNtxy7ckbV0pZ9\n",
              "PdzJpvgMtsAW1dbWBhfuWOULVcaQrdSZPXcypL9VFu8dndmjbqyvfZR4aV2SjTou8Ua7X+zccUqy\n",
              "T2GIveua5VEbIRDe/xvVKUMs1m8wbRJKwLtqmj2VQGCrELhLohyW/nDyuCosmmmzi79q7/XodROj\n",
              "gSAJbAiYLkdq1HbxW6aSmNQ2MW2E4u3cKkkbo1yN+uMcECkQxwH4MLGtbm0KiI0Cglf+C54Taocg\n",
              "/XyF1/T3piDCR3teiyfD8iUi8G8PNbcQ0K7AZRkhFt+u0wIeMn0gcqfEMGxlCikwSV0lFvBWgfAG\n",
              "SAsQf17Z2Ycub2cKNhqqPifKbVE8FiMeZTv1cDmvT10c2iTYmA2BoTXoOpsGda7kD00dakNTZ5Ak\n",
              "g5gfFyBmAxu1GlDNzG6TULoeO5MCWtQorqQqPPR7QKLMWnnEYt/J51iGszbHt8qp/nO4YkH/awlF\n",
              "W3kS6+aGiyoCkfl7AQTO15I8sOlo2Vyoo6suGqvK6qoeRGC/T3aTYNz5P0thlN4dyVC6QDMr0yrC\n",
              "RhKHJ6w6juqvGFF6bwmWQMwHQSLoDC7prmy/vN9z95Cm6xbFxdhQhLFG9mRosLQvibDr3DO1f5GO\n",
              "AKlNcNWEgQs/Rty8ucWIztTn65choBRWElgb3ufm7KYv5rPmVLhssmWiEDWeX/jwG7WQ+icy67QX\n",
              "QmiDKLExvXcx35NXyrus5gf/at4OWCCCBKsxk489I60hPSBva/Gwt+Cj/R5g/ju9SlMk4yqx/EGI\n",
              "o9tBu46qS6m1J2oTcnOQzL77PPCfxOjzEL4X94tjD8nNRJSJOMSVTqG38O4WS0NQNknUm1PpUCag\n",
              "aioUBU27EpdHh/INvELjJ2KK1Q6j4TprHE4oq/owJHIjgZXhGqw0KUrpdjy2WMcpNWgiOibWuCb9\n",
              "RPvONv7ZGQu5h3T1UG+CYffArDUuTeitSW7SyrPpeut8N+3P8tZ98odhaq/2BJj98j1RTrVxl1Ow\n",
              "zn1Q0ODPEuLE+zCiOH8FwxBu7J9+23pJwp6Xudbx2P8C2vFl00G9G8jlL68TH5K7IbiT5NyitkZZ\n",
              "jnfcxntn5kVP6gMevqgGxGmsDGyHqMkH3zfugtFTmApj6eAumZzp5XnPFVSGA+KBJpdCU++l0aLF\n",
              "w9x6JyF4J8l5RQUhDit+ne0fy5U3TYevT4T79Mus2Q1zmEj9mdKkujsYiwqwATsAAAXiAZ6DdEFf\n",
              "AAADAAI5JtbaRZxGxtWpA5Xn/46YhgAurfm/jd+J57BrCjGEdfn6mPJ9frxPxTErE1xgpbMqCUMS\n",
              "59B4ZSAjXk2BkMz1zVOxeZlCX2Pp+ACgW+Ocq8t5qcxwovxKPZ1YMQBwgux+3yG1P4grJJGqRi/j\n",
              "/CvUSjz+9mgBXseM1RoTwzNaCYau3nE5O9fpQaNS8UIuzaWWaxIn5M1WS3Ma74RjWpa4qxhhK3jQ\n",
              "hzC1ocO9+bIOsP2lyFd9f0oul4Z4RGnReRGpCvfclEv/0SHOcXXqJXjSr4f5W6OINPnGZMxkG4vV\n",
              "g6oOaWaACG5C0KoihXaZ1WkJ+U2g66y0Z49UY+wBg/XlsUQdlqXXrKH5wKsuUhQo/wq5TtOrjPbt\n",
              "QRDTLCJ9CkWVnmNQ9DsH6I/ve9x42CrXGX8Ex6kpwEJ/exOUvbvsW0NUpimOQxFli+gHvHZG8EXD\n",
              "TzUuc/lteD3QZJ35sgiH0MhtE3sXbRqf9tD2h+ieTdESF+JnMNrW0ig2LLFwOCrkax723kPX8qcA\n",
              "u04kM1zUQEcDOCdttd3KR2CbkVjdo3VV14H3nRu1z/XtkRZ1N3LlLHfB9nm1Jz0P+gW6UqeY63ep\n",
              "v5dAE/7/amLF87fVAbhv6bB3Iy1f94YLQ0nz0eg9ajQn2AdYqiV/cAtYhoDNrKEmWC+Cf32T7dTk\n",
              "5yF+Zdhut3zsz2Oj2xDR20CHmBl8sOAG0n/BSoKUINkPdT1RipIaoT9QAxAQCORq93+oI4tz9qpx\n",
              "IdlkoGbGq3RohJq5YvJFeAktSUp0TWc0e2Jz8zY/WIao7FNRra5RUSP1wrx4WScjlbxn7lucpjYh\n",
              "nbiEUkwK/vNDdBEFHJ5RgucSDw3GV3xy4MS/Z4UNL2OABe3P+eioF4blobZ5HcUb4L4VEUhnD4oP\n",
              "+VbN4llVbbkM/GJ/7b9/zZ3QWfrBTMNMOqNZIzg8ogb+7wULax7P2bdVoDMkovRBg0YMY5QdZZqI\n",
              "V3p2PUBY7oSWarZrwLF3SOz/arKShMsqbWec9jId4lH+dmMO4dq5FdYq219mAA+THz0dhrxqxcCK\n",
              "IGCd3gEU0KQtyWLqXxAcmNJ7+VphmNl90bUi8dSc2bHoYZl3Hf6VI8Hzfs/YAsvV9PU/sbV+g9bS\n",
              "w0qAsDfxKYp2D2xDj4jezmIqd/hVhWcKvCh588xjzhWNrvVYyzP3yFM9vDnrWeCzczD3e3j2X490\n",
              "jiDVNU6P3iNa3SYmeWINyX8oMjtpMCPd1SFQZTCva5ciehAjz00VEHZ6YEbKl3DpdD+8VoYbQ3BH\n",
              "wt2PMJ1oqmIsCc0YN6yb2wlwpBhdoWB1TM66Ip+sYZ0g8PI5BSRuKxQTBPRlofAG8hJp34aUPq6B\n",
              "2V2IXCPbuvYMgYldJLhJlwAp3ficCMytuXzo37dnMoXidbQX4EXLIDUcDsuUdysw8TPLbv1Anuen\n",
              "UBlQTPTIrt3ZM/j0mITZNP71ONB5imtU4BEVqOe31D0rwyou3twTTcFcBAD361iFRUrgfZG14XbB\n",
              "gFJ+yeVTWN0dD7RUHE21khhAD81bnFReKiImSsGnTJseis84fZPmBNcL7hvgxt/IqHP3zUsfmsMW\n",
              "PC9HyOnAmRf7pur1kUHxBrb/6wfuk+qrBMvqrQxyZlT9LPyRErZS74MIFdgE4ryBznBWCaKyjJmX\n",
              "emjo8MAhJW+Gtzq3pyb9Ry+zjtQAnn90oCV+DlW6JKoW81Wvf5K10NP1c37b11AXm0a7LT6WTUKH\n",
              "hMmJGHROVgX8syfyydAokPjBeVp+zuHdjyhkDy/0+y/rzeH2OMIAcJQyAJ4DoTsGfb41Wj25Sxvp\n",
              "Kv8gRtXBUG1kXvRutniRvbNGnVD1jq3LDmECaaNF+je1xUO+Ieixlc0UG3f3JVgkyZbWRIPFn7Rj\n",
              "NhYTRxo0pCVLtzzdE3p+ML1LImvleSRFIucVg5GWj6kabgv0yjpQg8Ns2GoVe10LqgOtPzVCE7Ii\n",
              "vKltLIkXyet6TMr1AuMqACbhAAAHLQGehWpBXwAAAwACOT2srrYll1wAIVUwjtTW11aHowQTd0E3\n",
              "U/ji0gZGzyXQdsESKdZGiFgb6DnkKih0627VIyTlNNzTBW9GnlE8xfeBPLaiyPPAh0Z3OgADB0bN\n",
              "OWrP+vy3vpnbncTHeB7s2Nh6r0tIZz3JsTk+6AxJCs5UZgEMnuT+vqRG46W/NdBCWd0rUU2i5I9M\n",
              "E8ajCV0Z8j663KxHklh3SPqJrmUW1Mqgh4F8uBgbSFQdoGmmqc+e99hU2epfHUCMaqluaGZBvODX\n",
              "FM7L3S7K3O4M802OMLJsEfsf1HnWasC+bSdnng0G4PfdeIUFjLEUIUsYDa0rqNnylRpUYrk7O1l/\n",
              "GCenzBBtEso1jjpCZhS1gojnqUS4jggql86coDWmsk570qQlEx5a+owjW60qAsk00BxJ6PSVr9jN\n",
              "m0uL4TWq7MF2udQ0KoMfVgZYEQjbvyqHsQGRMu5jqmwpHjxIil9XX9TPH2q6qCnDUbEaSqMFV5AG\n",
              "fQOKpIjUNy3MsmTJ774ozwTuaTcG16dbXdmcLgFoa8IhqjaKB7TOkVgOQwMA96Tp4+yoilZ5LwwK\n",
              "+q/sh3YGCQt6n0WR99a7dnC9qAj1b4crqyleQhSmBd/AT5Ux0QTpG6P07Ml5+ZijG9U/R8W7QVtt\n",
              "tWlIGrf4UUrpapvRLrdGBUwJCVOF/+kIFieH/SjaO/EkU59wN1VySq0vWGkFmiqGocBGbY3T0/NU\n",
              "Y2fQe2qi2uMkgOxQncGEO0Dg9Vlqxm3EYJjYNCJ8r3Kw1hkoaT0ce0Qmih46FdEX2bQPf2jYDbsR\n",
              "to3UfjphNGZxeP2DebKGogXwhF7DIzTxFn6SyVxzz+Quh9ltmJ4m2GHvP13Fmixd4S4W13xBiJ8A\n",
              "b07dRJqI9tsODhXs7e8ktj0uWn+frdH2GPO+UeG/NdoZBlnIHMEAMkxT0D/6/Q+NrK7CURXZnP7a\n",
              "6TWB9dH3CmN2684N4uwYbF5CR4ly+KU0WhQwmZWtD9b3W21CttRCz3KXnuQXS+vJMShiNO2D4ezn\n",
              "TwOnXEslW8pDE0mTXNuXGZBYuxYPbqXKi96ILxIcUo+Sl18BctYY2IjOofdo8eBOHCkdF9YLTnjh\n",
              "Q18NrqVkP3CrIjdxQh8UIvHoVW7yZrpRvnP79RFFFT3os4dOAGCPEGH7nS8HzdK8qoXR8COGyyrj\n",
              "iMMBxV5rc30ZQ8R1ZcxOLZl6QuQK8COP7MXlbt/G4XPrOfb8n8i7+r6Ze5hJlaOz4sPobutw4VVS\n",
              "zG2DbdEmsi4cQyPuTOt7cL4ewPNBV8VCk+s1o7/IoLeu+bDTKHubWhGdkv6YOoc2G9BOU4xQJb+D\n",
              "xmGYDRw+Mw+y2WQ5ThaM2dmr/afXNbIpjMYRzbjpXghdOOtTiWlhIwJel6X7E8Int2sd42nxaUa9\n",
              "Ux22is8bu9TlPT1xiQ4+HnE1hblxJTs1/YX7e2ayD+SMOxfteTU5HCB8zNMNHSikrtwcpDpiMzjQ\n",
              "s95s9Q5DhatYq2gmmWw5pRcR/eiVZBXhV0I+TbkTrQBTgUl74wAKcnO4WLPApf7K4w7KDaEogGwO\n",
              "Z4/H3hc5eNQcQMny22rVWNkBevcof/uc8r+PVA22nkam5yx8eQ9PsaGC3HtqSFUVLlTvAjqQbNXu\n",
              "88bKwf7ew+2QFMZs2wpJiGc7p+mV9aXQtIDMgnMWxO1Njt5stnqAp8r0zrquQ2pLYH5KOQeCWU7x\n",
              "xvNjczVBtzJ/KZ6VWymD/u8A1XKMadFupMQkwib63lJK7Bti8ijHoP3K3w4BIpHxX3ODNTS71+F0\n",
              "ofRIRTPvOOyNkvAE00p3jXYWvicoomjIeok340Ao8I8bT7FfGmTPxMiiC445p2BW1OtYqRJgO4ow\n",
              "FtYTx4YKHDOrU3e/Jbg1GQlCZrPMty/1lfRRN+hWTnXnclTu8ZUDBgRBHQwxfBvpqGuHksWr9nyT\n",
              "rZfVOEBV4N0tiyX6tIPDq8z9xMIq5QNZJ8qpdbxIJWuQpmrwtHM0cBMDryOfs4JcdpOdZkgkfYcV\n",
              "E8Pny+h/nG96WaUFeSFpFZFsykXw9dmsUPqj6IH585eD10dYcf6oFsYZObHMmt3sVU27zer3hmaK\n",
              "+S4Z3az0BP4P9CE7uQrGnryA8cA/ZzltGbZfv8VtRIuAlMHJnvWD58e557//9/nbolttzKNOuyQn\n",
              "5Imx7BgtSj6PySFllePjMqV8lhCGcm51WbQtc8Y9hxQ8mSlRYhFUynjSJiTALO+myv5kWuK8djwv\n",
              "mAXmMtu4kbsBCpf77m15rRCzLtVxEuAW4oANYpS+nrM+4RBUM1a5/Zk+jJZ2lhSUR7WcdOTy9B+X\n",
              "ir2dA7BlEDrJDSd5MWcYoGTePpf5Sdu+Gn795FjmIeSBqCD0umrEim8i0K3NpIYV9Ezh3Wtd1T7s\n",
              "jW2T26+8b3fGuMDmCFJT72wMcJNZE7Gj/xgi7h9CgrgAAxcAAAiVQZqJSahBaJlMCC///tqmWAAA\n",
              "BQqq5+ADnPdgBBIf/qbLuwokjrYuI2wwGm3uxC15tRT7z2vRdBK80pP819W2UokRSZ9fvv+WE5W6\n",
              "tBYfOloR0zggkTLDWUJ7bTAhm/UwwP6I6AFiCIbum/35zjM1euS3VTdsQZrcx1y3vIlbqz/gN+dj\n",
              "PX/qqhQIS1TmF4Xusu89kTG11k/6ur/R9bRq5DglQRwYbtvd68bJkmgm9SmorQdswlVWJ9AvyN5g\n",
              "0Pcq/Ym07cynBRJFAD2pnFiJYhf+//fj6FK8eHQZM2mty0pfs0ydocxDlQt8BB7sd6j7aBTpfyIQ\n",
              "bLySLZMSiapxtoBgrkDROgQ/bvxhocUQJdOo087sBGHOTrtZ57rA9diwZp9nwtuLZBXWy11fUIU0\n",
              "uoIeSp6S01sxW/kI+SVcftBv0+UIrFII+Qn4GyvB1G9JnOs1lM6TidTMRAuVbWKo6MVWuStjEw1P\n",
              "djo5siTEE6zJ8J+DNF0pu15CAP14WHTtn/VmoAUgYJjvUzD4AZzUM80IWqt1LG4L4tr2QZuHzPcn\n",
              "CsE0Qw80mttyp416B05pt4UchrTRLKON/JrhJZKIZ15/Wp3/KuagYmUzDQQGdkSYTFdWBC1cAwok\n",
              "xy90ScQqwbsAVyFjoS8mS1BWj2I5dc0adEaFUtP3xUv8fvxbj0NV/7FHOBdW9HxfeAyTvJECZPeQ\n",
              "zeRrKmvJGbrQGzOXLvUXCRzWBWUfnN5cZo7ehEUsGhdkTme+MxLVl8Flm2nmjnW+hKSfDK9xce8/\n",
              "VgIpQfmJ8OaWZ4YsBFZXzg3mI5DqCQWbGrxUDiB8oz9pvf1pYWg3ld25ErbICUOCPuDThdLowal9\n",
              "a06GN2T1dDmhwjuDrA4B7mUH+MfZsoUCqcIFz9Vs+vE0LRRrAUQOSI4RLnb3Ouyccn/ivRFPRlbF\n",
              "oFSsXdAXrkwQVX8BLaIUvwHDXlAvICZEVXSnDsCpMiK0tzZDCO7sG9nCiD/0TBF56muBi5dZ6/GQ\n",
              "FJBsUX8+BsP+kcp4VC8DpIk1OzVWSY9YmiEc4QCph/1RBctDh862PMUcghc5lyiYN11SY6skVfTI\n",
              "wx4V4E2JlWZGZcLeFXOXj9U+hGHs/Jm9L0pNUZa2orgwku6UVP3yUduBYfHPAr54szrcpA53La6b\n",
              "A+kzUbN4bjOsscEe7Oq/CX9uU7mzJu3T4D7fRkUjlX2DEL8qdeWhs2dn4BQXtwk2wivSbkSQjEzL\n",
              "tMpNgE8w04AorAd4clxpZDnhQKfD5t1RjreS4xlhQEJwk8ss3NVlAsRPH0+3O6qcNJpvH2gNR7BN\n",
              "0R8q+O/NAP0Vl2YmBpUAJRap8qDC0e4Bumoui4meO4jSn/v5ze5OKv01NO2XpIbxjkYxrFfGxIXs\n",
              "aYpt51bd5Xx2H4wTAUOmhyaAHcY17UNRAKKfdrK9AKmXQLu/GTREV1n1w0x649ZqDcNct9wkZL1g\n",
              "rxQcLVr2Dcr6ZFeCJPbxBHta12jQB3KY3QjwiC+3S+378VXObr0aLHZaqJ4Fx5hZ8ABbOKmUnGly\n",
              "4p6cG6GZgBblmstDQybQ0OK/nT8h8VB1ESX1n7dq/IyStTYh5+R8UVpIuZdPM2mVzKfG48pwgGJ6\n",
              "YjvPd6svZex0ch8gSMADCILeS7vfiLMRKbJ5v3ZM3l8seF9FUnRiaaP2zeI0d5TyUX5yQ0Q4rtKT\n",
              "7EVR/qcMcy8SJNmAjADl+Wc3Rh8hH0ZZNYjM72r3XfECoH3AQqVHTBkBPvv7c7AmU1IMmBAcAGPe\n",
              "XqNxafJ/axDRHXL7Y9pcu/n8vrg4brGYXD6ZjaWwD/pF4KWMFT/v/hoboAHqfVk4d0a2ii/TyhQC\n",
              "3lJGIC8KrHtUp2KAVOIV416g6b757sxR/n+JdqHGu7NwW38cYVibadqs3+Y6zD5VRqM+MV3JIBXv\n",
              "UFQOOpMNVoXAhkksqldMLXaO5QtNeOfeKpNlt2bfXX+ALtH3UiiDS7L72iHFbbST/+psRNFhjMny\n",
              "OxaKwk6h/WwFuZjP0cjTwil2Oe7fUpa2xhe3X15f1nU3pw0pE3psuGpBeJuOypec1vWhH/KxPvbn\n",
              "ZxGmif/UZVR/0/y8YjALyly8lrlRuXEn788hYHYpldaLCVQ9RGyte5umOmanOYYwxsVtxSnYOWha\n",
              "eB+8k9dm+1idsJkK996gX2AWArFKOr0fU5bD2QYLdaosb4GNJmKKUYoKp5BoSZWfFMppw4vRcWAz\n",
              "8DOSNnF+np2TVZfJlSwuLj3Tm8ZFtNxYHujvC0w+onO+IxwoudGv4V+gE/K41pEw3hH/l5IwhlZO\n",
              "zjmddFNGgwSaxE3PgqU9Ih4O67kHwfU6erI4gZOAneC2zSVSPGrJdq51gF8d4YOzLLsM9ivOvM17\n",
              "wPSfmLTCnoD6hqdFYnUAK6lCIddMkSQ00Rj5io3Ycm0IBIsnOYjXHKWgORz3Nk5pheLxqDGq4tBx\n",
              "79BpB4IDCz+7l1MAaN2+H58mrJ69SI9NLbUMvi3qK0o7U7Z5xTPK4YhXcALsnSqFE4epGaVosX59\n",
              "354dl9yWt2JMa4sY5vRkIG0I7eOj5MVADwvrXl4lLe4oFIlNgG8fKch8azeBTicuyknimigow+1H\n",
              "uLqwSnRVwTmsPW1F7DkjSODL0xaF2glY3GL0RjK0E/lEu10C+me3LXg7JuTHdXCe0JMZ+JuQmPBI\n",
              "LoRZ5ALXXYfZ/jxP9EveQOTLZmZvlOHyWN9y/88wf7YkiK0yed5FjpFLUNTFvbXhS03ozI1UJc7o\n",
              "aOSBCNK96n9c5lMc7aQmjHr9h44hSlwV4EAJhRD0Uc/aD28Z3Sn2mYVq9RsOLsRdBTkNkeUa3Mww\n",
              "vCeugaxiLbUhqUbjHxgW7kI5NIPkOOD6X8svGVbALGaegT2rZ0KqG01NTTvd1jrBQ8j3GHDT79tv\n",
              "TrdCmCmHRV5Hu7AeEQAABtNBnqdFESwV/wAAAwADXW0ugAIUOqkBzX92g9VPRUwyZU0wd5V0EwPb\n",
              "vQZi9o1sX4OALgsvG9O2NZYuDE8D4Hwtc7/RKZltOrYfCFQMy+CjSHIjhgGkCJErvM2ZuhB1JEOy\n",
              "cIO4FkUKzvhn3wiojgRj1QtUxWzQ4CEuZbpMeZIrvd9X/3ZeBwS35DHKqBr7XyUqe8fQ+tozyyo+\n",
              "VGkKA7c4H/qhn8GY5iSzkmARLNxacF7Gic3WOOhYUVcNDhk/XObG9uJE+QfDsz7KPebCtHdjYcaJ\n",
              "+hvVu6nqhA+2LYhQVUCKiEizZMGXtjQHSLdVJcRNz3LGUZxkuJKewyh1veYIdZgoTldxtLzM0EaN\n",
              "SAfvyx5Q1ym1h0Rcummdc/6zeMF3qN1Ngy5kf0WqYPkN9L3B9H0aM7CkK7HS/lZNiiGeBh5di4/M\n",
              "x523BPW6eNWA0oY3lZZdkZuRYiTB+1VQRJg0l7M7lxq11OQQEeSP4iprTCioUq+6ofG7J63p8rZ3\n",
              "xDeJrPZADs28GTAQI3gHLQgGVr2LrZIZZmAVIgnQ+RnTofj/gdqSrhSRzt01o9h2A6LLjoPwyfTj\n",
              "DFO8lohjdNfQVWwdh5ktb8q7ykEsIwEmkjFvg7axjd9Mtseu5il4ZMOVWtXbWkqFaleIVets0fdA\n",
              "k6VWVZ0y4RbpPL81uFR/7a+E8A4CsGOUo4FqyJvkx0yIPnr0e9WRz9Xy8g0dgHkF4hcJ6aHSxCWX\n",
              "xF2Tq1y2bRBzjQLy9heDx0ydbUfUrs/jbNzdSCAqnH7phRg6fCw/s7t3tkpqXzK9zt/EI2BHIzRN\n",
              "TPNupDXINnX7C2pqIAGb4YWrCx/JzflfEVCE3cxoFkD+BW70eB7HA4CeZbD3KJkDVdBRaln2s4l5\n",
              "t2p5awLCSTY63U/f8aEiVPqLHiAm1RhW7sZRGKosPpQnSBBrCigMidBkxyVM55PbyMb7am0q+kJY\n",
              "0Z9Dc/yHDKhstmctNo2X4zsDZ9xUF1VtJMbXRFvXWF+erKwmsxGHWbCQxmmxIhAXLRP+zT7QD/mm\n",
              "gL+6QJOLUHvboHl9MfQA1s2+9ccVguaPQaoMdEpLPHjY6brsk+0hvMXght2sAM7SFekXOy+SCNhG\n",
              "TIelQ/dkP3NqYM5X+5RdahBe1ARoIWGUPdlUX2Qw5O8nhGWxS9KA7TzJIfoPLZV1kaqo/7+GkZ55\n",
              "MJ5sC50ukxp//xyaHGRFcuoV4pAED2xO1zP5yRRgQ/1pZ6MtqoTZsqtykRPqmVrNlKUCDuY8Abmz\n",
              "5mUNV5zWwH2zZqh2lQD57+ubMS4P26oRSgo8GXgMiBGcU8w6MIrRbR/w77io+81kXsavnXRci+KJ\n",
              "+sGs167GorNRlDZUV+BfqTa8OrEkZmcjMSMfrDC5KXX6KgklzRI1xEN2IRxnBaxnUM1YbjWPY33k\n",
              "aK1l1Jby3jUBfEGFCTwDZItG1gmNFCkT28rAxnON9oh8BUsLbaQRwlNDWuofVUrjutjlBmPb8pav\n",
              "h0xzic7pAzHDfEdTCZec1bgajfQfUp6rFwIXmUulkbncYdtIchiilYklQ9jdfR1qSNTaLwNNVy7g\n",
              "7dZwsr7jr/85NigY2d50PlvmusrcXDmTQ+Zq8rc1Zw+XIDbVKOTvDYSw6Cpx8oFyru8pWW9wMTn7\n",
              "kzxCGjn7Y7Fc3p8et7AFreuGcleZDLdixQTCKNS1MoJ5q2+uUVtms6axZVxlTxUHXFd3agDgC754\n",
              "WeLUtNp9hilbYhIsLydMmf945S0Q5IgprURopiFK8kjYsyqxnSN8vgFhEOdc9jmTWQsQTpkxFmSh\n",
              "up0cuDt6j224n/XRclIan0lIBYwEzHJ+w6PdpvWbPhvLD9OYaObjI8z4uuTpJfyBi/4L21y+o6gc\n",
              "yHdCvTxFafqIt7QgB/173CsH4PBa85EBO1575GOxNCjHq9YrTyk6S3+ojwbJnsb5mX1KaYZTr4dJ\n",
              "aqHIj4mU9wP1PjDeVs9WmNLiNnrj8YS9JqwdDBaua1a60ZHwZaavSq9oGxyPr4UNdJJLfJsKu3Ue\n",
              "1Lp6014RW6PVhuaSJrYL4cO+/1qCQ/un7wxr6VN0FAF8MikA2xe/p2RaXCuB8pgLhIHs6my0HtF8\n",
              "7VHMDeo7KBowbJDgJTXtX6TFPIuENtV82uKTgxTeg+eAw/BYdG5z9884/dfiVgkTwOOYryTkJNWt\n",
              "QaVS/yvx33a/jsPQo+g/Df02RVdaNd7OY25CAcAFC2FGbUQIrGeFXpn6VGlGP92+mpsqFfoFmtx7\n",
              "WyoXrhx51QGE7KS5/kLCetv8aUnmhe/ownzL0/aiHOqScpYePrS+p3IbCpU5jSYZsmt+gAJOAAAG\n",
              "WAGeyGpBXwAAAwADVcO2462jqkAB2m/MvbhTmyJwPsIDBLhwqOigtHhNeOwGB9FKyObJd16pGm+D\n",
              "Ojo49kmLOX/Ki+ldGE7UemJFss66m+2+e6u86rRVak6f6QkionBsuOw1fIggaypy4OeJus+RQE+h\n",
              "uKBl9rQLq2BiB7DbVQP5tb4+6ZtakcDK3tLbyJm9hn6UlZE0mL/hLgozpRkGripjq44CmQwfvsPz\n",
              "H3lP2nA3a2rTNWRtzXTOZlOt8GBMYA82vdAm52GdjAYiwoKHxEQZA1pQSfxhIUoawVzDPZ/+hVkh\n",
              "0ZiYPjN394IuoNcLwKcpW5cI49AHXoVJxvNsKq0RldkgPKJ9re1JhvmCWbUvHhYfT99uk+hrwqBX\n",
              "jqp2CR4iNVxLYFJGfiZ362s+F95rNzAwjTE6mpUyo+sC3aeBpcKCG6uwf06YEDgv8f0PhnN6fF4W\n",
              "CwFobr2pRiKBTVUvkArj33jiHcRTeKBO80LHRMVLN9fBHEnAPzs/8HEa4VHfdGenVl/DXTRzeVUG\n",
              "NuD8JqO8UZy0eDD2EJ84zKdUHhaEMCOVKVDOP09x6U5Q0XXgWkN2RaP16PRhJq6tqy60pGDIXo4I\n",
              "/MhiB8iwPZ3OSsmK3Nd1eR3T5I866OGyfGeueHOF2pF0Twv1O6i2G2DnlgMGpKJjzT96H137/F6X\n",
              "ELo4LZYWU9v1pIaKuQuslFdYaDoRkjKgz+1xnTQmkcpuzEKHwHVWO8PKSFOu3pB5H3zGBqkAsfWh\n",
              "vsnJux/NXL59wUmdyVW2WDSjYGfZgN2Qke8Cx9i3jLYyHGECYBJctRbBv1iZH5IwK9VKlvlVAUw5\n",
              "DbGJPVHhl7errWxKyHzWIMr2w6nspYyCgs/NGDGXuVgyIRi44pfpOrvd9pG9Eo/vxrgFlhkefUMm\n",
              "z1A9Fg8oKyiUanARFEcSYt5vExU2BXfYtDJBWVckAZrYHsp0hHdmZEEzrrd8DHVqnCxLRjb4hL1N\n",
              "vmI7o0fYa9QNbZwB00P9Eych0T3tj9C7THsURptU/eRfJOgcldTgQTeZu9K0x2ed8rzkJNB0RG7+\n",
              "2At3WrWCDptzid8+ZX/vyjeUR5ga29UxkNgCrxW2UYt3hbfCjhj1k6SvyhTch/gtXYVe5hMXdaxC\n",
              "4chOAw4FXZM+RMeF62Xlgryjz8WzA5hoLNe+mFUVPxUINgU1ji006q9mQmqvgJz0L779mA6qj9Sy\n",
              "jHP1lup+8SRcIEgox/QTu9ZEPnmNzfNDgbm50WxWISzn437Y4UtnoTNBVF2Io667DXB1s5DMvOLl\n",
              "NERY71JqVKb1G/iNajQZCTAeQOi5eP6tCyAcoDCS3YQEyBKsD4j5IiVN+CV/klA8ahuJz48ydK4L\n",
              "pqs5Iwrj+4xsXAB5nWecJaviTXAbPMWts3riZ7cbK4sYguoh0n8fKxhPNqTWz5tEImoCbE+lsJIf\n",
              "0XZx6WlMpzMDWp1koZfSRka99YVqWH9i79mRyGyH2YkhJk8+TPev9OJLhFEAnL3gqxzrwCRKu37V\n",
              "86ycA4civQeEBA1QJ7v47lDkNr7wLinr488JVdeTUXFsuzGjj37okRuII4qUQxoYnLqcd5sIG1+B\n",
              "2/hJMrr5XNZhEmJuvz7h13Swn/YBlHpNLCUK1//sElm5NDX4yWafuZkt/77or/oA2BjBEOTfWfJO\n",
              "B9D5EXpjgRMOJXPSNIsu8z+3NcOhEUY8wBFLgWnmf4Zm+RCFRuaClLc2krjAGNh4PDRCcNegR8Yk\n",
              "Wdg8lXqsb+lUCJskudcbJFbLKDvbivm/A7nDhQJfLiwxcK8xfXD9iQ3apyIBh5VwRGV0R2tGx/f/\n",
              "MOcnuNyOA4C18hGosxA1AiCwoWtVrj3sw0pZUEp3t3I4s+xO77EjkZkBifSHknCblP8vo/i9UXdI\n",
              "DXQwnSfsRj/AsVaaEUzb2L2FSvtRETe7ic+ipREIJJ2yqyNhQjIOqemEqUVNPFDlwGnA3vX+9+X2\n",
              "b51w/ySheN+VUV+QJDDR+WCOBXN+mkI4f/Rz8z6Xk8DoAFCnaq7rvqjUM/tJ0w4bT+TMiHkONyt9\n",
              "WuXOL1z6qcRZXFIm1XDTbWlYg3u4SQDTKJVtERYXWdX2LncOJ2RNFwKC+2j9jGPgxB4FpVDgSsmd\n",
              "Hh3MziTA11q3gmSaWonOUFk9yS6gygD4ZemACpgAAAeCQZrKSahBbJlMCC3//talUAAABSjOxgAT\n",
              "Wp2jCB4R5nawAfDBBCHUcwM6DtFcpDnOyFETNpW5bgcqa/jFsSd7UzxI63zxt+JHw5B5f0R67B3n\n",
              "L8zD+3z8tpN/UrqLOz3Y/dMn6c8t2erRMs8WSAGbxg3J6PStrHExBUN+Nzr/0eTlKhBWbkaMRjUV\n",
              "NNCuC0/2FW6ms7zeQ6LgzWonwaRv2Fk6vBvjunh21dST61NUKlTvA/6drkvl1SYtD7fd0zgj9CVR\n",
              "GP0kGflEEjY9m/cEWsB/TSKs20Nq/6OWvVZT0qAi1cSX8vP9g43FKYhl9KkTJsaGsry6QK7d1Kdj\n",
              "IK9IZzQ45eqRUD9Iosb7eHlGmZtDV7C2Ec8QHLB5VHNU1DfV7+g7bD6RBdNsKA5ZP2vNKN6wXyN+\n",
              "qbtLdQDdB25AaKwevj2t41z4tDb+QA5a7uES1V6/k1ncSapQ1fwI3z/Fwj9G31RjKg0juVkhWd4e\n",
              "ft60XdzDlyu1jXqu/DxTXvQTN9kBMUj1QKDDXVkm/agTQHaEIXvPByR01ilRkqMvlp4kOpjxVasa\n",
              "sD3Q8uS2tx86YHxvXNMa1vZR8n1imG2g+Xz18+ovf706aWnEt52hg3vDDRQlfau8B6h2fHU/wmq3\n",
              "fh2ctTB9DKBbm70ejc/95PpZTDe0G27sZW6Hl8Xm5hfrPElz7po09/ZEg2jUCgAG16nWvzDzKbh0\n",
              "etykS8BvwfToYSnz3+8/bKPlbwMcTWdyiMruzQBiFFVhZSgyby4ICdBMgLBYOZMVid0SqVDz2znD\n",
              "M0DQB8fLyF+uQ4kqapUMjPMbHXyVFKNS9ubwlA0iphYjImNBGaCQDGlAMGDD7l+9m2CNVFtg1NbF\n",
              "QVwv6bbpCBU4Y6AKKYgZh5OvsnfG9Kfd3kSyY1o/4euu/44ZgJgzLfBx89bUmAgR8wv7Z8TUP7zq\n",
              "4UkEuLuFLflG8wt1O11kgn+3w1oMdvUbbPZaSW1WGMQNQrbiXUhVo2M6oH8Kf2+Q8MmaR9xVlM3Z\n",
              "hAS0H+p9LE9nLPuHwF0VVn99IlPRF4iJ2cKUhKxRQh73djljEbL3J4GewUuZptZmSvMnH/0n1+51\n",
              "B+RNopkoukXm8d8UWdx480/SkBIL/nlh0r0WR654X8oXrFCWlLolA/7krWtMzbApRPP0gZAG6LAd\n",
              "OWCTZgi/XvwAwKwVex+iFX4/Le5qGdAGQrsBkltGgZawlOEsDJ0kiuQD0olRAqUrlKmRNaFkSQoc\n",
              "pdugV/jZicHp1Gq/lAlZ8VRSHhXjqHdxZd+YrOC9rQI7TV7znpcf2zshKTFnsyyqPi3EeGG0DFZA\n",
              "GpWrQZVJFbynoM/nfKlH8Hcu66qwIP5uBGzSXvSRBFLjFLhygxIPIC3w+awmDXLAsy6czH6SgOjE\n",
              "RXZ+vQQS3irpHMWNmC3yzudAYjwFp+B7soeBKH1Ry+WI0RbRy2eU3VC7caSO4vJZcDLfbWSIAUjz\n",
              "yKpcx3CMVkOefY2B2cu84KLoKyrnD1+QhSoG+nERqPz7fp9DpJawF6kSBWYyZWYUjJ8n2d5LiJhM\n",
              "Vc507nWSYtG+0T/n1czYqG8pSMifET9F01QtsZ8VKbSi5yGeoCvm1g+5EKWtxlefLg73IT3tT2g2\n",
              "7Fa4PJLDR9rAeXI0ZDrZmPeyS54Hw4fwM838mWdSfX5+DBWLog8j34q32zyL+7QBSdr8bQhW3pK7\n",
              "a6gTaQ1uKYb4yUEtr4ULkIRaL7+P9xWWNUkshBnwzKwLzBByldjyVXX7lN03FmfhRDRfgqtY+Hoc\n",
              "4+niWjm2ysdIhstYTpyKQRP69P0EQNFkSqxteW9RpZFAiJ4oKBDoIBLGqJpBXAVXUiDJ72wTxVGz\n",
              "n+qMwPMr31yc3AAUxx75Xl/EaoyCfxiiCobf9+X5RiYNpG6ppHHbOr2MewGPf8Du5o3p+V22/vCj\n",
              "2YxyN6X6v2nrtJ+XWOtI1Sqch7WBeLp0+CYr8uNonYAz1vNaF9nBFV1eVi0ddgwKjb2b1SHMwyx9\n",
              "/Kmk4c1QywXS9ozgOSPCMqrqYTIHwvAE/htOd5l34+cjh7iKmafgUKfXdt1OaIq9Tq1m5St9TDFj\n",
              "JZNLxW5dkKeuPGvgbaHbmQItDplXJgPCA2jWYqeuNcqOD8HMCA6nBO9+Hwnqdsoqik4dtWeQTooX\n",
              "qkCRv1V6l1pNGiPzt7YLgUB3JBEvDtFcC/Cy1UXNvH2xwdggvbHGZ3BFIDBfztNy6HO9UgTqZptX\n",
              "ehncW6b0fub9b7bAyFaBnPkoe4XIf7w7a+/aHTP+KN9U0JHCs4bhzr7+McVX7Wecx+GtLVtw32HJ\n",
              "5dspk8vX2JMzFQRx6EOipRelP84Iq3um8hQkmIF2u1uJdyDaEQ8rX5DIgdPohQsHOo6EuWVw82TW\n",
              "M22qTQzAkh+GgSjUvp3fVgE8LY3QeNmHu5yHQxVf81r3ZWHMkyBk16UbmeVRqYeygOXhag2hxc1w\n",
              "4/SmhJeRpItF0CNIDUQ4OQv+VJScMG4SOkawfiRc0l6RqL7Fo3JIlC+b3jqFuSTcSIgxkVb5ecy1\n",
              "70E+FuIONwu7SVGYUNjUFlEAAAVfQZrrSeEKUmUwIK///talUAAABSjE4AARCpsobYdhX5KK6o5H\n",
              "q2V+dy3SWzXTzaNoso3jdJpbTh36TpD+aZ7EUrGFM0RtS1LTpBtyZwvs6Y1SvAvQXw+fNFDUnfZ7\n",
              "rDonUPha57lowRMzzdSS7vX//bmcx5zCw2rmc1OZX+LYaZg/YyjvENRyu/lJsbDTExeKPLjnl4Zd\n",
              "jM2n7SzvVnTdCyHemfqs2P33Vxk73KocRU8R4OLEugZySOdXd/zPuJgqzEsySL+vlGXXU6oaEUi2\n",
              "veMRS0bhwDUKJKEBAK5PzkAZjBptyL23OBKlx9mRORd3o2qnwxcnioPNhOmrdnEHA3e0GLaPaBx+\n",
              "UZZKASd4fhTx53fNeyXRYqvmE+djG1z4wd9nyS+25FDsXF1o17AQYL8bZ82IFB7xuqjjX6ireyvR\n",
              "11ydnxAQlxtE68Cji3NottDzBq3qPdzVn5I45Z2uFSuw/co7quKNZCk6s/xi7jaTzuMHiOfqdtAE\n",
              "rXTSJyPetSRy4wpT7ZRYf/zwNurrw3ISFz6+i1qZNOVAjdRDQ7EvMWuqV29I40wFqi6q2Not83cm\n",
              "bdu1DEo+WBNu3HiYZcswuNhs30Un1foCW5GzagArS+CbyZK2U850Zecxr3fQC30DVr++KvkpNse7\n",
              "qXJJ98HNxbH/HYCVBXQIjxlYgVNBlMxIqw9Pgnw9beXPDrPQT35Z/SPOk5KJIOKnyxer8YhW6OXN\n",
              "pI7XKoiFW3Gdow48WmilaCj6GL5ZMLEFAYqwsRmVjq7fJ8m8vkZEx40v5LE1Ux+p7Vb0sOfEXaEA\n",
              "dn0DPGtaOCmJ+LQjjX9u/c/K99wIQ5jyN5b1JqM5cag/bF56+f3FI+qfXTdTHKZWSFElKWdw8LB+\n",
              "H2eQ2e0CIlzfmOJIytBygFwekfHZ5pJBwXTbBc+xIm1vRTvch5Uq9+oip5HaXjtWfYFjVzFUeCPQ\n",
              "G97fkmPDuoEZpXeyOwCz8EKMUV/R6GAaQOHAowmxMZymFKXMnvg/e+zNwqhsQTbjPqW0KDn7Y0BY\n",
              "oUdvuKK0Xw4grGBAAfFidWYlCu0kXwlU5E/0CFAPNX0gqg2JVhP4LrClQDNgwNELs3f3xYL9E3i0\n",
              "exCOf1zEL+3OTv1Wa+tT/HaLvF0BoHW8BaLF3MzAhZY3MsxbbxvLBJCMXQPm2HmAkXW0ZSipaSac\n",
              "lubOwKKYRSUZoPaa1km2lTiU8kBwRA/ceFoOllxrxi8cLJsUXwoqE+8iVzOP4Um5IaqgTyCHEuX/\n",
              "2o1TXIPlVHM/2u9ubeh225yMObTinuw4/vFu+oUT6QyunT4fx3J4hSBROitRfdeam6ESIRer9moM\n",
              "jCirERcwy0sMluGLu8HQv94NeqwhKgnE+Vo3u09A9andwrR26ft0D0Akd8ENCN4dF3akEM2c8wGS\n",
              "RWWTEcWwVXLDt37rbtT1/DZ/dLsgZJQgJwZbvBmDLvFlzgq5J3Xy72p8usVx949OPkRto1MjYBTY\n",
              "U1RH081BYIiSyllmjVU4lAEI8cm3hSS8Lgy3aFTriSIGJMGdlRS93BRtsCBB4MLShaNj3sFDqWHD\n",
              "vYyueDZ6I729FEzQu7ObJ9IsTvkgYfeLSFTFypqYOaXZglHtGQLXwq0y1aSx2CeaS5Ditq/ZUoWW\n",
              "NVpKNbNMI/5kIFA/BtaLX4wkvae3rU/ygGWLImKPgEQzicElS3PO6Bl871TP5pscoHnAdt4kRQjB\n",
              "hLb5uJ7vNFw6rpvpEbDTEvlgJysdvaj/nWUAuDHTVBGQuhnJ3hvBhx9Z8k+8u9z+xnFBjY0u6jXN\n",
              "sWCcLZRfiaOYv+Md4lZONMYE7HP1zVQ3t0gg4AAAA7Btb292AAAAbG12aGQAAAAAAAAAAAAAAAAA\n",
              "AAPoAAAu4AABAAABAAAAAAAAAAAAAAAAAQAAAAAAAAAAAAAAAAAAAAEAAAAAAAAAAAAAAAAAAEAA\n",
              "AAAAAAAAAAAAAAAAAAAAAAAAAAAAAAAAAAAAAAACAAAC2nRyYWsAAABcdGtoZAAAAAMAAAAAAAAA\n",
              "AAAAAAEAAAAAAAAu4AAAAAAAAAAAAAAAAAAAAAAAAQAAAAAAAAAAAAAAAAAAAAEAAAAAAAAAAAAA\n",
              "AAAAAEAAAAADYAAAAfgAAAAAACRlZHRzAAAAHGVsc3QAAAAAAAAAAQAALuAAAIAAAAEAAAAAAlJt\n",
              "ZGlhAAAAIG1kaGQAAAAAAAAAAAAAAAAAAEAAAAMAAFXEAAAAAAAtaGRscgAAAAAAAAAAdmlkZQAA\n",
              "AAAAAAAAAAAAAFZpZGVvSGFuZGxlcgAAAAH9bWluZgAAABR2bWhkAAAAAQAAAAAAAAAAAAAAJGRp\n",
              "bmYAAAAcZHJlZgAAAAAAAAABAAAADHVybCAAAAABAAABvXN0YmwAAAC1c3RzZAAAAAAAAAABAAAA\n",
              "pWF2YzEAAAAAAAAAAQAAAAAAAAAAAAAAAAAAAAADYAH4AEgAAABIAAAAAAAAAAEAAAAAAAAAAAAA\n",
              "AAAAAAAAAAAAAAAAAAAAAAAAAAAAAAAY//8AAAAzYXZjQwFkAB//4QAaZ2QAH6zZQNgQflhAAAAD\n",
              "AEAAAAMAg8YMZYABAAZo6+PLIsAAAAAcdXVpZGtoQPJfJE/FujmlG88DI/MAAAAAAAAAGHN0dHMA\n",
              "AAAAAAAAAQAAAAwAAEAAAAAAFHN0c3MAAAAAAAAAAQAAAAEAAABgY3R0cwAAAAAAAAAKAAAAAQAA\n",
              "gAAAAAABAADAAAAAAAEAAEAAAAAAAQABQAAAAAABAACAAAAAAAEAAAAAAAAAAQAAQAAAAAABAAEA\n",
              "AAAAAAIAAEAAAAAAAgAAgAAAAAAcc3RzYwAAAAAAAAABAAAAAQAAAAwAAAABAAAARHN0c3oAAAAA\n",
              "AAAAAAAAAAwAAFxxAAAJfAAABfoAAAqRAAAHygAABeYAAAcxAAAImQAABtcAAAZcAAAHhgAABWMA\n",
              "AAAUc3RjbwAAAAAAAAABAAAALAAAAGJ1ZHRhAAAAWm1ldGEAAAAAAAAAIWhkbHIAAAAAAAAAAG1k\n",
              "aXJhcHBsAAAAAAAAAAAAAAAALWlsc3QAAAAlqXRvbwAAAB1kYXRhAAAAAQAAAABMYXZmNTcuODMu\n",
              "MTAw\n",
              "\">\n",
              "  Your browser does not support the video tag.\n",
              "</video>"
            ],
            "text/plain": [
              "<IPython.core.display.HTML object>"
            ]
          },
          "execution_count": 27,
          "metadata": {},
          "output_type": "execute_result"
        }
      ],
      "source": [
        "from IPython.display import HTML\n",
        "HTML(animation.to_html5_video())"
      ]
    },
    {
      "cell_type": "code",
      "execution_count": null,
      "metadata": {
        "id": "Ic2VNadYSuW5"
      },
      "outputs": [],
      "source": [
        ""
      ]
    }
  ],
  "metadata": {
    "colab": {
      "collapsed_sections": [],
      "name": "Regression from Scratch.ipynb",
      "provenance": [],
      "include_colab_link": true
    },
    "kernelspec": {
      "display_name": "Python 3.10.5 64-bit",
      "language": "python",
      "name": "python3"
    },
    "language_info": {
      "name": "python",
      "version": "3.10.5"
    },
    "vscode": {
      "interpreter": {
        "hash": "989463e38681a5fd82d38de96f8698b455d042055ac8a69b8d2062bb7be9c3d4"
      }
    }
  },
  "nbformat": 4,
  "nbformat_minor": 0
}